{
 "cells": [
  {
   "metadata": {},
   "cell_type": "markdown",
   "source": "# Result Summary"
  },
  {
   "metadata": {},
   "cell_type": "code",
   "outputs": [],
   "execution_count": null,
   "source": [
    "results = {\n",
    "    \"TF-IDF Model\": {\n",
    "        \"MSE Sentence 1\": a_mse1,\n",
    "        \"MSE Sentence 2\": a_mse2,\n",
    "        \"Pearson Train\": a_pc,\n",
    "        \"Pearson Test\": a_pc_t\n",
    "    },\n",
    "    \"Word2Vec Model\": {\n",
    "        \"MSE Sentence 1\": b_mse1,\n",
    "        \"MSE Sentence 2\": b_mse2,\n",
    "        \"Pearson Train\": b_pc,\n",
    "        \"Pearson Test\": b_pc_t\n",
    "    },\n",
    "    \"BioSentVec Model\": {\n",
    "        \"MSE Sentence 1\": c_mse1,\n",
    "        \"MSE Sentence 2\": c_mse2,\n",
    "        \"Pearson Train\": c_pc,\n",
    "        \"Pearson Test\": c_pc_t\n",
    "    },\n",
    "    \"CNN Model\": {\n",
    "        \"MSE Dev\": d_mse,\n",
    "        \"Best MSE Test\": a_best_mse\n",
    "    },\n",
    "    \"LSTM Model\": {\n",
    "        \"Best MSE Test\": best_mse\n",
    "    }\n",
    "}\n"
   ]
  },
  {
   "metadata": {},
   "cell_type": "code",
   "outputs": [],
   "execution_count": null,
   "source": [
    "def print_results(results):\n",
    "    for model, metrics in results.items():\n",
    "        print(f\"{model}:\")\n",
    "        for metric, value in metrics.items():\n",
    "            print(f\"  {metric:<40}: {value}\")\n",
    "        print(\"-\" * 60)\n",
    "\n",
    "print_results(results)\n"
   ]
  }
 ],
 "metadata": {
  "kernelspec": {
   "display_name": "PyCharm (IndividualProject)",
   "language": "python",
   "name": "pycharm-7b94367c"
  },
  "language_info": {
   "codemirror_mode": {
    "name": "ipython",
    "version": 3
   },
   "file_extension": ".py",
   "mimetype": "text/x-python",
   "name": "python",
   "nbconvert_exporter": "python",
   "pygments_lexer": "ipython3",
   "version": "3.8.3"
  }
 },
 "nbformat": 4,
 "nbformat_minor": 4
}
