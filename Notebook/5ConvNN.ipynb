{
 "cells": [
  {
   "metadata": {},
   "cell_type": "markdown",
   "source": "# 3.3.4 CNN for Sentence Similarity"
  },
  {
   "metadata": {},
   "cell_type": "code",
   "outputs": [],
   "execution_count": null,
   "source": [
    "import pandas as pd\n",
    "import numpy as np\n",
    "import torch\n",
    "import torch.nn as nn\n",
    "from sklearn.metrics import mean_squared_error\n",
    "from gensim.models import KeyedVectors\n",
    "from nltk.tokenize import word_tokenize\n",
    "from tqdm import tqdm\n"
   ]
  },
  {
   "metadata": {},
   "cell_type": "code",
   "outputs": [],
   "execution_count": null,
   "source": [
    "data_path = \"clinic_c.csv\"\n",
    "word2vec_path = \"/Users/aswath/PycharmProjects/mfac038/IndividualProject/PubMed-and-PMC-w2v.bin\"\n",
    "\n",
    "df = pd.read_csv(data_path)\n",
    "print(df.head())\n",
    "\n",
    "# Split into train/dev/test sets\n",
    "train_text1, train_text2, train_labels = df[\"Sent1\"][:600], df[\"Sent2\"][:600], df[\"Score\"][:600]\n",
    "dev_text1, dev_text2, dev_labels = df[\"Sent1\"][600:750], df[\"Sent2\"][600:750], df[\"Score\"][600:750]\n",
    "test_text1, test_text2, test_labels = df[\"Sent1\"][750:], df[\"Sent2\"][750:], df[\"Score\"][750:]\n",
    "\n",
    "# Concatenate sentence pairs\n",
    "train_sentences = [f\"{s1} {s2}\" for s1, s2 in zip(train_text1, train_text2)]\n",
    "dev_sentences = [f\"{s1} {s2}\" for s1, s2 in zip(dev_text1, dev_text2)]\n",
    "test_sentences = [f\"{s1} {s2}\" for s1, s2 in zip(test_text1, test_text2)]\n"
   ]
  },
  {
   "metadata": {},
   "cell_type": "code",
   "outputs": [],
   "execution_count": null,
   "source": [
    "word_vectors = KeyedVectors.load_word2vec_format(word2vec_path, binary=True)\n",
    "print(f\"Word2Vec model loaded with {len(word_vectors)} words.\")\n"
   ]
  },
  {
   "metadata": {},
   "cell_type": "code",
   "outputs": [],
   "execution_count": null,
   "source": [
    "word_vec_dim = 200\n",
    "oov_vec = np.random.rand(word_vec_dim)\n",
    "\n",
    "def tokenize_and_pad(sentence_list, word_vectors, max_len=None):\n",
    "    \"\"\"Tokenize, vectorize, and pad sentences.\"\"\"\n",
    "    tokenized = [word_tokenize(sentence.lower()) for sentence in sentence_list]\n",
    "    max_len = max_len or max(len(tokens) for tokens in tokenized)\n",
    "    padded_vecs = [\n",
    "        np.vstack([word_vectors[word] if word in word_vectors else oov_vec for word in tokens] +\n",
    "                  [[0] * word_vec_dim] * (max_len - len(tokens)))\n",
    "        for tokens in tokenized\n",
    "    ]\n",
    "    return np.array(padded_vecs)\n",
    "\n",
    "def evaluate_model(model, data_sentences, data_labels, batch_size, word_vectors, loss_fn, device):\n",
    "    \"\"\"Evaluate model performance on a dataset.\"\"\"\n",
    "    model.eval()\n",
    "    predictions = []\n",
    "    losses = []\n",
    "    with torch.no_grad():\n",
    "        for i in range(0, len(data_sentences), batch_size):\n",
    "            batch_sentences = data_sentences[i:i+batch_size]\n",
    "            batch_labels = torch.tensor(data_labels[i:i+batch_size], dtype=torch.float32, device=device)\n",
    "\n",
    "            # Prepare data\n",
    "            batch_data = tokenize_and_pad(batch_sentences, word_vectors)\n",
    "            batch_data_tensor = torch.tensor(batch_data, dtype=torch.float32, device=device)\n",
    "\n",
    "            # Forward pass\n",
    "            preds = model(batch_data_tensor).squeeze()\n",
    "            predictions.extend(preds.cpu().numpy())\n",
    "            losses.append(loss_fn(preds, batch_labels).item())\n",
    "\n",
    "    mse = mean_squared_error(data_labels, predictions)\n",
    "    return mse, np.mean(losses)\n"
   ]
  },
  {
   "metadata": {},
   "cell_type": "code",
   "outputs": [],
   "execution_count": null,
   "source": [
    "class CNNRegressor(nn.Module):\n",
    "    def __init__(self, embd_dim, filter_sizes, filter_nums, dropout_rate=0.5, device='cpu'):\n",
    "        super(CNNRegressor, self).__init__()\n",
    "        self.device = device\n",
    "        self.convs = nn.ModuleList([\n",
    "            nn.Conv1d(in_channels=embd_dim, out_channels=num_filters, kernel_size=fs, padding=fs-1)\n",
    "            for fs, num_filters in zip(filter_sizes, filter_nums)\n",
    "        ])\n",
    "        self.fc = nn.Linear(sum(filter_nums), 1)\n",
    "        self.dropout = nn.Dropout(dropout_rate)\n",
    "        self.tanh = nn.Tanh()\n",
    "\n",
    "    def forward(self, x):\n",
    "        # Apply convolution, activation, and pooling\n",
    "        x = x.permute(0, 2, 1)  # (batch_size, embd_dim, seq_len)\n",
    "        conv_out = [torch.max(self.tanh(conv(x)), dim=2)[0] for conv in self.convs]\n",
    "        x = torch.cat(conv_out, dim=1)  # Concatenate along filter dimension\n",
    "        x = self.dropout(x)\n",
    "        return self.fc(x)\n"
   ]
  },
  {
   "metadata": {},
   "cell_type": "code",
   "outputs": [],
   "execution_count": null,
   "source": [
    "device = torch.device(\"cuda\" if torch.cuda.is_available() else \"cpu\")\n",
    "filter_sizes = [2, 3, 4]\n",
    "filter_nums = [100, 100, 100]\n",
    "dropout_rate = 0.5\n",
    "\n",
    "model = CNNRegressor(embd_dim=word_vec_dim, filter_sizes=filter_sizes, filter_nums=filter_nums, dropout_rate=dropout_rate, device=device)\n",
    "model.to(device)\n",
    "\n",
    "loss_fn = nn.MSELoss()\n",
    "optimizer = torch.optim.Adam(model.parameters(), lr=0.001)\n",
    "scheduler = torch.optim.lr_scheduler.StepLR(optimizer, step_size=1, gamma=0.95)\n"
   ]
  },
  {
   "metadata": {},
   "cell_type": "code",
   "outputs": [],
   "execution_count": null,
   "source": [
    "n_epochs = 10\n",
    "batch_size = 32\n",
    "best_mse = float('inf')\n",
    "best_model = None\n",
    "\n",
    "for epoch in tqdm(range(n_epochs)):\n",
    "    model.train()\n",
    "    epoch_losses = []\n",
    "    for i in range(0, len(train_sentences), batch_size):\n",
    "        batch_sentences = train_sentences[i:i+batch_size]\n",
    "        batch_labels = torch.tensor(train_labels[i:i+batch_size], dtype=torch.float32, device=device)\n",
    "\n",
    "        # Prepare data\n",
    "        batch_data = tokenize_and_pad(batch_sentences, word_vectors)\n",
    "        batch_data_tensor = torch.tensor(batch_data, dtype=torch.float32, device=device)\n",
    "\n",
    "        # Forward pass\n",
    "        preds = model(batch_data_tensor).squeeze()\n",
    "        loss = loss_fn(preds, batch_labels)\n",
    "        epoch_losses.append(loss.item())\n",
    "\n",
    "        # Backward pass\n",
    "        optimizer.zero_grad()\n",
    "        loss.backward()\n",
    "        optimizer.step()\n",
    "\n",
    "    # Evaluate on dev set\n",
    "    dev_mse, dev_loss = evaluate_model(model, dev_sentences, dev_labels, batch_size, word_vectors, loss_fn, device)\n",
    "    print(f\"Epoch {epoch+1}, Train Loss: {np.mean(epoch_losses):.4f}, Dev MSE: {dev_mse:.4f}\")\n",
    "\n",
    "    # Save best model\n",
    "    if dev_mse < best_mse:\n",
    "        best_mse = dev_mse\n",
    "        best_model = model.state_dict()\n",
    "\n",
    "    scheduler.step()\n",
    "\n",
    "print(f\"Best Dev MSE: {best_mse:.4f}\")\n",
    "model.load_state_dict(best_model)\n"
   ]
  },
  {
   "metadata": {},
   "cell_type": "code",
   "outputs": [],
   "execution_count": null,
   "source": [
    "test_mse, _ = evaluate_model(model, test_sentences, test_labels, batch_size, word_vectors, loss_fn, device)\n",
    "print(f\"Test MSE: {test_mse:.4f}\")\n"
   ]
  }
 ],
 "metadata": {
  "kernelspec": {
   "display_name": "Python 3",
   "language": "python",
   "name": "python3"
  },
  "language_info": {
   "codemirror_mode": {
    "name": "ipython",
    "version": 3
   },
   "file_extension": ".py",
   "mimetype": "text/x-python",
   "name": "python",
   "nbconvert_exporter": "python",
   "pygments_lexer": "ipython3",
   "version": "3.7.7"
  }
 },
 "nbformat": 4,
 "nbformat_minor": 1
}
