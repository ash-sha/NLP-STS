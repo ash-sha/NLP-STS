{
 "cells": [
  {
   "cell_type": "markdown",
   "metadata": {},
   "source": [
    "# Result Summary "
   ]
  },
  {
   "cell_type": "code",
   "execution_count": 2,
   "metadata": {},
   "outputs": [],
   "source": [
    "\n",
    "%store -r a_mse1\n",
    "%store -r a_mse2\n",
    "%store -r a_pc\n",
    "%store -r a_pc_t\n",
    "\n",
    "%store -r b_mse1\n",
    "%store -r b_mse2\n",
    "%store -r b_pc\n",
    "%store -r b_pc_t\n",
    "\n",
    "%store -r c_mse1\n",
    "%store -r c_mse2\n",
    "%store -r c_pc\n",
    "%store -r c_pc_t\n",
    "\n",
    "\n",
    "\n",
    "%store -r a_best_mse\n",
    "%store -r d_mse\n",
    "\n",
    "%store -r best_mse"
   ]
  },
  {
   "cell_type": "code",
   "execution_count": 29,
   "metadata": {},
   "outputs": [
    {
     "name": "stdout",
     "output_type": "stream",
     "text": [
      "TF-IDF Model:\n",
      "\n",
      "MSE Score for Sentence 1                   1.1771395289616289\n",
      "MSE Score for Sentence 2                   1.1620100266864666\n",
      "Person correlation coefficient for train   0.7250129583488217\n",
      "Person correlation coefficient for test    0.7096250554831223\n",
      "-----------------------------------------------------\n",
      "\n",
      "Word2Vec Model:\n",
      "\n",
      "MSE Score for Sentence 1                   1.1226993297669186\n",
      "MSE Score for Sentence 2                   1.09656494770233\n",
      "Person correlation coefficient for train   0.6827053984059963\n",
      "Person correlation coefficient for test    0.6908914142235858\n",
      "-----------------------------------------------------\n",
      "\n",
      "BioSentVec Model:\n",
      "\n",
      "MSE Score for Sentence 1                   1.1016878867505036\n",
      "MSE Score for Sentence 2                   1.0396737610570217\n",
      "Person correlation coefficient for train   0.7576416333126751\n",
      "Person correlation coefficient for test    0.7529442585133999\n",
      "-----------------------------------------------------\n",
      "\n",
      "CNN Model:\n",
      "\n",
      "MSE Score of CNN on dev set                10.283840240817177\n",
      "best MSE Score of CNN on Test set          1.29105153324419\n",
      "-----------------------------------------------------\n",
      "\n",
      "LSTM Model:\n",
      "\n",
      "best MSE Score of LSTM on Test data        1.2521612410172118\n",
      "-----------------------------------------------------\n"
     ]
    }
   ],
   "source": [
    "print('TF-IDF Model:')\n",
    "print('')\n",
    "print(\"MSE Score for Sentence 1                  \",a_mse1)\n",
    "print(\"MSE Score for Sentence 2                  \",a_mse2)\n",
    "print(\"Person correlation coefficient for train  \",a_pc)\n",
    "print(\"Person correlation coefficient for test   \",a_pc_t)\n",
    "print('-----------------------------------------------------')\n",
    "print('')\n",
    "print('Word2Vec Model:')\n",
    "print('')\n",
    "print(\"MSE Score for Sentence 1                  \",b_mse1)\n",
    "print(\"MSE Score for Sentence 2                  \",b_mse2)\n",
    "print(\"Person correlation coefficient for train  \",b_pc)\n",
    "print(\"Person correlation coefficient for test   \",b_pc_t)\n",
    "print('-----------------------------------------------------')\n",
    "print('')\n",
    "print('BioSentVec Model:')\n",
    "print('')\n",
    "print(\"MSE Score for Sentence 1                  \",c_mse1)\n",
    "print(\"MSE Score for Sentence 2                  \",c_mse2)\n",
    "print(\"Person correlation coefficient for train  \",c_pc)\n",
    "print(\"Person correlation coefficient for test   \",c_pc_t)\n",
    "print('-----------------------------------------------------')\n",
    "print('')\n",
    "print('CNN Model:')\n",
    "print('')\n",
    "print(\"MSE Score of CNN on dev set               \",d_mse)\n",
    "print(\"best MSE Score of CNN on Test set         \",a_best_mse)\n",
    "print('-----------------------------------------------------')\n",
    "print('')\n",
    "print('LSTM Model:')\n",
    "print('')\n",
    "print(\"best MSE Score of LSTM on Test data       \",best_mse)\n",
    "print('-----------------------------------------------------')\n"
   ]
  },
  {
   "cell_type": "code",
   "execution_count": null,
   "metadata": {},
   "outputs": [],
   "source": []
  }
 ],
 "metadata": {
  "kernelspec": {
   "display_name": "PyCharm (IndividualProject)",
   "language": "python",
   "name": "pycharm-7b94367c"
  },
  "language_info": {
   "codemirror_mode": {
    "name": "ipython",
    "version": 3
   },
   "file_extension": ".py",
   "mimetype": "text/x-python",
   "name": "python",
   "nbconvert_exporter": "python",
   "pygments_lexer": "ipython3",
   "version": "3.8.3"
  }
 },
 "nbformat": 4,
 "nbformat_minor": 4
}
