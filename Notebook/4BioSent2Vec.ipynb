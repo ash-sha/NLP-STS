{
 "cells": [
  {
   "metadata": {},
   "cell_type": "markdown",
   "source": "# 3.3.3 BioSentVec + Random Forest for Sentence Similarity"
  },
  {
   "metadata": {},
   "cell_type": "code",
   "outputs": [],
   "execution_count": null,
   "source": [
    "import pandas as pd\n",
    "import numpy as np\n",
    "from sklearn.ensemble import RandomForestRegressor\n",
    "from sklearn.metrics import mean_squared_error\n",
    "from scipy.spatial.distance import cosine\n",
    "from scipy.stats import pearsonr\n",
    "import sent2vec\n"
   ]
  },
  {
   "metadata": {},
   "cell_type": "code",
   "outputs": [],
   "execution_count": null,
   "source": [
    "data_path = \"clinic.csv\"\n",
    "biosentvec_path = \"/Users/aswath/PycharmProjects/mfac038/IndividualProject/BioSentVec_PubMed_MIMICIII-bigram_d700.bin\"\n",
    "\n",
    "# Load dataset\n",
    "df = pd.read_csv(data_path)\n",
    "print(df.head())\n",
    "\n",
    "# Split into train and test sets\n",
    "train_text1 = df[\"Sent1\"][:750].tolist()\n",
    "train_text2 = df[\"Sent2\"][:750].tolist()\n",
    "train_labels = df[\"Score\"][:750].tolist()\n",
    "\n",
    "test_text1 = df[\"Sent1\"][750:].tolist()\n",
    "test_text2 = df[\"Sent2\"][750:].tolist()\n",
    "test_labels = df[\"Score\"][750:].tolist()\n"
   ]
  },
  {
   "metadata": {},
   "cell_type": "code",
   "outputs": [],
   "execution_count": null,
   "source": [
    "model = sent2vec.Sent2vecModel()\n",
    "try:\n",
    "    model.load_model(biosentvec_path)\n",
    "    print(\"BioSentVec model successfully loaded!\")\n",
    "except Exception as e:\n",
    "    print(f\"Error loading BioSentVec model: {e}\")\n"
   ]
  },
  {
   "metadata": {},
   "cell_type": "code",
   "outputs": [],
   "execution_count": null,
   "source": [
    "def embed_sentences(sentences, model):\n",
    "    \"\"\"\n",
    "    Generate embeddings for a list of sentences using BioSentVec.\n",
    "    \"\"\"\n",
    "    return np.array([model.embed_sentence(sentence) for sentence in sentences])\n"
   ]
  },
  {
   "metadata": {},
   "cell_type": "code",
   "outputs": [],
   "execution_count": null,
   "source": [
    "train_emb1 = embed_sentences(train_text1, model)\n",
    "train_emb2 = embed_sentences(train_text2, model)\n",
    "test_emb1 = embed_sentences(test_text1, model)\n",
    "test_emb2 = embed_sentences(test_text2, model)\n",
    "\n",
    "print(f\"Train Embedding Shapes: {train_emb1.shape}, {train_emb2.shape}\")\n",
    "print(f\"Test Embedding Shapes: {test_emb1.shape}, {test_emb2.shape}\")\n"
   ]
  },
  {
   "metadata": {},
   "cell_type": "code",
   "outputs": [],
   "execution_count": null,
   "source": [
    "reg1 = RandomForestRegressor(max_depth=6).fit(train_emb1, train_labels)\n",
    "reg2 = RandomForestRegressor(max_depth=6).fit(train_emb2, train_labels)\n"
   ]
  },
  {
   "metadata": {},
   "cell_type": "code",
   "outputs": [],
   "execution_count": null,
   "source": [
    "test_pred1 = reg1.predict(test_emb1)\n",
    "test_pred2 = reg2.predict(test_emb2)\n",
    "\n",
    "mse1 = mean_squared_error(test_labels, test_pred1)\n",
    "mse2 = mean_squared_error(test_labels, test_pred2)\n",
    "\n",
    "print(f\"MSE for Sentence 1: {mse1}\")\n",
    "print(f\"MSE for Sentence 2: {mse2}\")\n"
   ]
  },
  {
   "metadata": {},
   "cell_type": "code",
   "outputs": [],
   "execution_count": null,
   "source": [
    "def calculate_cosine_similarity(emb1, emb2):\n",
    "    \"\"\"\n",
    "    Compute cosine similarity for two sets of embeddings.\n",
    "    \"\"\"\n",
    "    return [1 - cosine(emb1[i], emb2[i]) for i in range(len(emb1))]\n",
    "\n",
    "# Cosine Similarity for Train Data\n",
    "train_cosine_sim = calculate_cosine_similarity(train_emb1, train_emb2)\n",
    "\n",
    "# Cosine Similarity for Test Data\n",
    "test_cosine_sim = calculate_cosine_similarity(test_emb1, test_emb2)\n",
    "\n",
    "print(f\"Sample Train Cosine Similarities: {train_cosine_sim[:5]}\")\n",
    "print(f\"Sample Test Cosine Similarities: {test_cosine_sim[:5]}\")\n"
   ]
  },
  {
   "metadata": {},
   "cell_type": "code",
   "outputs": [],
   "execution_count": null,
   "source": [
    "# Train Data\n",
    "train_corr, _ = pearsonr(train_cosine_sim, train_labels)\n",
    "print(f\"Pearson Correlation for Train: {train_corr:.5f}\")\n",
    "\n",
    "# Test Data\n",
    "test_corr, _ = pearsonr(test_cosine_sim, test_labels)\n",
    "print(f\"Pearson Correlation for Test: {test_corr:.5f}\")\n"
   ]
  },
  {
   "metadata": {},
   "cell_type": "code",
   "outputs": [],
   "execution_count": null,
   "source": [
    "results = {\n",
    "    \"mse1\": mse1,\n",
    "    \"mse2\": mse2,\n",
    "    \"train_corr\": train_corr,\n",
    "    \"test_corr\": test_corr,\n",
    "    \"train_cosine_sim\": train_cosine_sim,\n",
    "    \"test_cosine_sim\": test_cosine_sim,\n",
    "}\n",
    "print(\"Results:\", results)\n"
   ]
  }
 ],
 "metadata": {
  "kernelspec": {
   "display_name": "Python 3",
   "language": "python",
   "name": "python3"
  },
  "language_info": {
   "codemirror_mode": {
    "name": "ipython",
    "version": 3
   },
   "file_extension": ".py",
   "mimetype": "text/x-python",
   "name": "python",
   "nbconvert_exporter": "python",
   "pygments_lexer": "ipython3",
   "version": "3.7.7"
  }
 },
 "nbformat": 4,
 "nbformat_minor": 1
}
