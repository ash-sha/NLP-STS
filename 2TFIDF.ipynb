{
 "cells": [
  {
   "cell_type": "markdown",
   "metadata": {},
   "source": [
    "# 3.3.1. TF-IDF"
   ]
  },
  {
   "cell_type": "code",
   "execution_count": 11,
   "metadata": {
    "pycharm": {
     "name": "#%%\n"
    }
   },
   "outputs": [
    {
     "data": {
      "text/html": [
       "<div>\n",
       "<style scoped>\n",
       "    .dataframe tbody tr th:only-of-type {\n",
       "        vertical-align: middle;\n",
       "    }\n",
       "\n",
       "    .dataframe tbody tr th {\n",
       "        vertical-align: top;\n",
       "    }\n",
       "\n",
       "    .dataframe thead th {\n",
       "        text-align: right;\n",
       "    }\n",
       "</style>\n",
       "<table border=\"1\" class=\"dataframe\">\n",
       "  <thead>\n",
       "    <tr style=\"text-align: right;\">\n",
       "      <th></th>\n",
       "      <th>Sent1</th>\n",
       "      <th>Sent2</th>\n",
       "      <th>Score</th>\n",
       "    </tr>\n",
       "  </thead>\n",
       "  <tbody>\n",
       "    <tr>\n",
       "      <th>0</th>\n",
       "      <td>Insulin NPH Human [NOVOLIN N] 100 unit / mL su...</td>\n",
       "      <td>Insulin NPH Human [NOVOLIN N] 100 unit / mL su...</td>\n",
       "      <td>3.50</td>\n",
       "    </tr>\n",
       "    <tr>\n",
       "      <th>1</th>\n",
       "      <td>Patient arrives ambulatory, Gait steady, Hist...</td>\n",
       "      <td>Complex assessment performed, Patient arrives...</td>\n",
       "      <td>2.50</td>\n",
       "    </tr>\n",
       "    <tr>\n",
       "      <th>2</th>\n",
       "      <td>Peripheral IV site, established in the right f...</td>\n",
       "      <td>Peripheral IV site, present prior to arrival, ...</td>\n",
       "      <td>3.45</td>\n",
       "    </tr>\n",
       "    <tr>\n",
       "      <th>3</th>\n",
       "      <td>No :  new confusion or inability to stay aler...</td>\n",
       "      <td>No :  new confusion or inability to stay aler...</td>\n",
       "      <td>4.00</td>\n",
       "    </tr>\n",
       "    <tr>\n",
       "      <th>4</th>\n",
       "      <td>Spent 15 minutes with the patient and greater ...</td>\n",
       "      <td>Nurse visit ten minutes, over half of which w...</td>\n",
       "      <td>3.00</td>\n",
       "    </tr>\n",
       "  </tbody>\n",
       "</table>\n",
       "</div>"
      ],
      "text/plain": [
       "                                               Sent1  \\\n",
       "0  Insulin NPH Human [NOVOLIN N] 100 unit / mL su...   \n",
       "1   Patient arrives ambulatory, Gait steady, Hist...   \n",
       "2  Peripheral IV site, established in the right f...   \n",
       "3   No :  new confusion or inability to stay aler...   \n",
       "4  Spent 15 minutes with the patient and greater ...   \n",
       "\n",
       "                                               Sent2  Score  \n",
       "0  Insulin NPH Human [NOVOLIN N] 100 unit / mL su...   3.50  \n",
       "1   Complex assessment performed, Patient arrives...   2.50  \n",
       "2  Peripheral IV site, present prior to arrival, ...   3.45  \n",
       "3   No :  new confusion or inability to stay aler...   4.00  \n",
       "4   Nurse visit ten minutes, over half of which w...   3.00  "
      ]
     },
     "execution_count": 11,
     "metadata": {},
     "output_type": "execute_result"
    }
   ],
   "source": [
    "# load data \n",
    "import pandas as pd\n",
    "df = pd.read_csv('clinic.csv')\n",
    "df.head()"
   ]
  },
  {
   "cell_type": "code",
   "execution_count": 12,
   "metadata": {
    "pycharm": {
     "name": "#%%\n"
    }
   },
   "outputs": [],
   "source": [
    "# check the size of the data \n",
    "sent1 = df['Sent1'].tolist()\n",
    "sent2 = df['Sent2'].tolist()\n",
    "lables = df['Score'].tolist()\n"
   ]
  },
  {
   "cell_type": "code",
   "execution_count": 13,
   "metadata": {
    "pycharm": {
     "name": "#%%\n"
    }
   },
   "outputs": [],
   "source": [
    "#retrieve stored values\n",
    "%store -r cleaned1\n",
    "%store -r cleaned2\n",
    "%store -r dtree1\n",
    "%store -r dtree2\n",
    "\n",
    "# data split.\n",
    "train_text1 = dtree1[:750]\n",
    "train_text2 = dtree2[:750]\n",
    "train_labels =lables[:750]\n",
    "\n",
    "test_text1 = dtree1[750:]\n",
    "test_text2 = dtree2[750:]\n",
    "test_labels =lables[750:]\n"
   ]
  },
  {
   "cell_type": "code",
   "execution_count": 14,
   "metadata": {},
   "outputs": [
    {
     "data": {
      "text/plain": [
       "'insulin nph human novolin unit suspension subcutaneous directed prescriber'"
      ]
     },
     "execution_count": 14,
     "metadata": {},
     "output_type": "execute_result"
    }
   ],
   "source": [
    "train_text1[0]"
   ]
  },
  {
   "cell_type": "code",
   "execution_count": 15,
   "metadata": {
    "pycharm": {
     "name": "#%%\n"
    }
   },
   "outputs": [
    {
     "name": "stdout",
     "output_type": "stream",
     "text": [
      "['abdominal', 'ability', 'able', 'abnormal', 'abrupt', 'abstinent', 'abuse', 'acceptance', 'accompanied', 'according', 'ace', 'acellular', 'acetonide', 'ache', 'acog', 'acquired', 'act', 'active', 'actively', 'activity', 'actuation', 'acupuncture', 'addicition', 'addiction', 'addition', 'additional', 'address', 'adequate', 'adhd', 'adhesive', 'adjunct', 'administer', 'administered', 'administration', 'admission', 'adsorbed', 'adult', 'advance', 'advanced', 'advancement', 'advised', 'aerolizer', 'aerosol', 'affected', 'african', 'age', 'agitation', 'ago', 'agree', 'agreed', 'agreement', 'agrees', 'ahead', 'aid', 'aircast', 'airway', 'albuterol', 'alcohol', 'alert', 'alfa', 'allergic', 'allergy', 'altering', 'alternative', 'ambulate', 'ambulating', 'ambulatory', 'american', 'amount', 'analysis', 'androgel', 'anemia', 'anesthesia', 'aneurysm', 'anger', 'ankle', 'anoxic', 'answer', 'answered', 'antecubital', 'anterior', 'anthrax', 'antibiotic', 'anticoagulation', 'antigen', 'antiplatelet', 'anxiety', 'anxiolysis', 'anxious', 'aortic', 'apnea', 'apparent', 'apparently', 'appear', 'appeared', 'appears', 'appendix', 'appetite', 'applies', 'appointment', 'appropriate', 'appropriately', 'approved', 'approximately', 'aq', 'area', 'arm', 'arrest', 'arrival', 'arrives', 'art', 'artery', 'arthritis', 'aseptic', 'asian', 'ask', 'asked', 'aspart', 'aspect', 'aspiration', 'aspirin', 'ass', 'assertiveness', 'assessed', 'assessment', 'assist', 'assistance', 'assistant', 'associated', 'asthma', 'asymptomatic', 'ativan', 'attempt', 'attend', 'attentive', 'atvs', 'authorization', 'authorized', 'auto', 'autohaler', 'autosomal', 'av', 'availability', 'available', 'avocational', 'avoid', 'awake', 'aware', 'awareness', 'away', 'azmacort', 'baby', 'back', 'background', 'backing', 'bacterial', 'bad', 'bag', 'balance', 'band', 'bandage', 'barrier', 'bart', 'base', 'based', 'bath', 'bathing', 'beat', 'bed', 'bedside', 'bedtime', 'bedwetting', 'began', 'begin', 'behavior', 'behavioral', 'bend', 'bending', 'benefit', 'best', 'bicycle', 'bid', 'bilateral', 'bile', 'bill', 'binder', 'biopsy', 'bite', 'black', 'blackout', 'bladder', 'bleeding', 'bleeds', 'blister', 'block', 'blockage', 'blocked', 'blood', 'bloodshot', 'blotch', 'blue', 'blurred', 'body', 'bolus', 'bone', 'booklet', 'bottle', 'bowel', 'bradycardic', 'brain', 'brca', 'breakdown', 'breast', 'breath', 'breathe', 'breathing', 'briefly', 'bright', 'bring', 'brochure', 'broken', 'bronchitis', 'bronchospasm', 'brought', 'browser', 'bruising', 'brushing', 'bulging', 'bull', 'burn', 'burning', 'bus', 'business', 'calf', 'call', 'cancer', 'cantharidin', 'capillary', 'capsular', 'capsule', 'car', 'carbohydrate', 'card', 'cardio', 'cardiopulmonary', 'cardiovascular', 'care', 'carefully', 'caregiver', 'caretaker', 'caribbean', 'caring', 'carried', 'carrier', 'carrying', 'cart', 'case', 'cast', 'cat', 'cataract', 'catheter', 'cause', 'cauterized', 'caution', 'cell', 'center', 'cf', 'cftr', 'chair', 'challenge', 'chance', 'change', 'characteristic', 'checked', 'checking', 'cheek', 'chemical', 'chest', 'chew', 'chewable', 'chicken', 'child', 'childhood', 'chill', 'chloraprep', 'chloride', 'choking', 'cholecalciferol', 'cholesterol', 'chondrotin', 'chore', 'chromosome', 'chronic', 'cigarette', 'cipro', 'ciprofloxacin', 'citrate', 'clap', 'class', 'clear', 'clearly', 'client', 'climbing', 'clinic', 'clinical', 'clomiphene', 'clot', 'cloth', 'cloudy', 'coffee', 'cognitive', 'cold', 'collapse', 'collateral', 'color', 'colored', 'combination', 'combivent', 'comfort', 'comfortable', 'command', 'comment', 'common', 'communicate', 'communication', 'community', 'company', 'comparing', 'complains', 'complaint', 'complementary', 'complete', 'completed', 'completing', 'complex', 'complexity', 'complication', 'comply', 'comprehensive', 'concentration', 'concept', 'concern', 'concurs', 'condition', 'conditioning', 'conducted', 'confirmed', 'confirms', 'confrontation', 'confused', 'confusion', 'congenital', 'congruent', 'conjugate', 'consciousness', 'consent', 'consented', 'consider', 'considered', 'consolable', 'constant', 'constipation', 'constitutional', 'consult', 'consultant', 'consultation', 'consumer', 'contact', 'contacted', 'contagious', 'contagiousness', 'contained', 'contains', 'conten', 'content', 'contente', 'contenttodays', 'continue', 'continued', 'continues', 'continuing', 'continuous', 'contraceptive', 'contract', 'contraindication', 'control', 'controlled', 'convenient', 'conversation', 'converse', 'conversing', 'converted', 'cool', 'cooperative', 'coordination', 'copd', 'cope', 'coping', 'copy', 'correct', 'correctly', 'correlation', 'corticosteroid', 'cosigner', 'cough', 'coughing', 'coumadin', 'coumadinxab', 'counseling', 'counter', 'counting', 'couple', 'course', 'cover', 'covered', 'cracking', 'cramp', 'cramping', 'cream', 'crib', 'criterion', 'cross', 'croupy', 'cry', 'ct', 'cue', 'cueing', 'cultural', 'culture', 'current', 'currentand', 'currently', 'cut', 'cvi', 'cyanosis', 'cycle', 'cystic', 'daily', 'damage', 'data', 'date', 'dated', 'day', 'daytime', 'decision', 'decline', 'decrease', 'decreased', 'decreasing', 'deep', 'deet', 'deferens', 'define', 'degeneration', 'degree', 'demonstrate', 'demonstrated', 'demonstrates', 'demonstration', 'denial', 'denies', 'dental', 'dentist', 'dependent', 'depending', 'depressed', 'depression', 'depressive', 'descent', 'describe', 'described', 'describes', 'description', 'despite', 'detail', 'detailed', 'detection', 'detector', 'determine', 'determined', 'develop', 'development', 'developmentally', 'develops', 'device', 'diabetes', 'diagnosed', 'diagnosis', 'diaper', 'diaphoresis', 'diarrhea', 'diet', 'difficult', 'difficulty', 'digit', 'digital', 'digitorum', 'dignity', 'dilated', 'dim', 'dimension', 'diphtheria', 'directed', 'direction', 'directive', 'directly', 'discharge', 'discharged', 'discolored', 'discomfort', 'discus', 'discussed', 'discussing', 'discussion', 'disease', 'dismissal', 'dismissed', 'disorder', 'disp', 'displayed', 'disposition', 'dissecting', 'distortion', 'distracted', 'distress', 'disturbance', 'divorce', 'dizziness', 'dizzy', 'doctor', 'document', 'documentation', 'documented', 'doesnt', 'domestic', 'done', 'dorsolithotomy', 'dosage', 'dose', 'dosing', 'double', 'doxycycline', 'dpt', 'dr', 'drainage', 'draped', 'draw', 'drawn', 'dressed', 'dressing', 'dribbling', 'drink', 'drive', 'driving', 'drooping', 'drop', 'drowsiness', 'drug', 'dry', 'dtap', 'due', 'dur', 'duration', 'dusky', 'dyspnea', 'dysuria', 'ear', 'early', 'easy', 'eating', 'ectopic', 'edema', 'edge', 'educated', 'education', 'educational', 'effect', 'effort', 'ehl', 'eight', 'electrocautery', 'electronic', 'elevation', 'eligibility', 'embedded', 'embolism', 'emergency', 'emotional', 'emphysema', 'emr', 'encouraged', 'end', 'endoscopy', 'engaging', 'english', 'enhance', 'entered', 'entire', 'entry', 'environment', 'epipen', 'episode', 'equal', 'equipment', 'equivalent', 'er', 'esophageal', 'established', 'evaluated', 'evaluation', 'even', 'evening', 'event', 'evidence', 'exam', 'examination', 'examined', 'example', 'exceed', 'excellent', 'excessive', 'excluding', 'excruciating', 'exemplified', 'exercise', 'exertion', 'exhaustion', 'exist', 'expanded', 'expanding', 'expansion', 'expected', 'experience', 'experienced', 'expire', 'explained', 'explaining', 'explanation', 'exposed', 'exposure', 'express', 'expressed', 'extender', 'extending', 'extends', 'extensive', 'extra', 'extreme', 'extremely', 'extremity', 'extubated', 'eye', 'eyelash', 'eyelid', 'fabrication', 'face', 'facial', 'facilitate', 'facilitation', 'factor', 'failure', 'faint', 'fainted', 'fainting', 'fall', 'familiar', 'family', 'fashion', 'father', 'fatigue', 'febrile', 'feeding', 'feel', 'feeling', 'felt', 'female', 'fetus', 'fever', 'fhl', 'fibrosis', 'filed', 'filled', 'filling', 'film', 'finance', 'financial', 'finasteride', 'finding', 'finger', 'fingerstick', 'fingertip', 'fire', 'first', 'five', 'flank', 'flashing', 'flexhaler', 'flexor', 'flexpen', 'floor', 'floppiness', 'flossing', 'flovent', 'flow', 'fluid', 'flushed', 'fluticasone', 'fluzone', 'foamy', 'focused', 'follitropin', 'follow', 'followed', 'following', 'follows', 'fontanel', 'food', 'foot', 'foradil', 'forearm', 'forehead', 'foreign', 'forgiveness', 'forgiving', 'form', 'formation', 'forward', 'foul', 'four', 'free', 'frequency', 'frequently', 'friend', 'frontal', 'frothy', 'fruity', 'full', 'fully', 'function', 'functional', 'fussier', 'gagging', 'gain', 'gait', 'gallbladder', 'gastrointestinal', 'gauge', 'gb', 'gc', 'gel', 'gene', 'general', 'generalize', 'generalized', 'generally', 'genetic', 'genetics', 'genital', 'genitourinary', 'gently', 'gestational', 'gi', 'given', 'giver', 'gland', 'glass', 'glaucoma', 'glucosamine', 'glucose', 'glycol', 'goal', 'going', 'gonal', 'good', 'gram', 'greasy', 'great', 'greater', 'green', 'grieving', 'groin', 'grooming', 'gross', 'ground', 'group', 'guardian', 'guidance', 'guideline', 'gun', 'gynecology', 'half', 'hand', 'handihaler', 'handling', 'handout', 'happy', 'hardening', 'hdl', 'head', 'headache', 'headed', 'headedness', 'health', 'healthcare', 'healthy', 'hearing', 'heart', 'heartbeat', 'heating', 'heavy', 'height', 'hell', 'helmet', 'hematemesis', 'hematochezia', 'hematuria', 'heparin', 'hepatitis', 'herbal', 'hfa', 'high', 'higher', 'hip', 'historian', 'history', 'hiv', 'hive', 'hoarseness', 'holiday', 'home', 'hopeful', 'hospital', 'hospitalization', 'hospitalized', 'hot', 'hour', 'household', 'housekeeping', 'hpi', 'hpv', 'human', 'hung', 'husband', 'hydration', 'hygiene', 'hypersensitivity', 'hypocalcemia', 'id', 'identified', 'identifier', 'identify', 'identity', 'iegunshot', 'ienausea', 'ill', 'illness', 'imaging', 'immediately', 'immobilization', 'immune', 'immunity', 'immunization', 'immunodeficiency', 'immunogenicity', 'impaired', 'impairment', 'impairs', 'implant', 'importance', 'important', 'impression', 'improve', 'improved', 'improvement', 'improves', 'inability', 'inactivated', 'inactive', 'inch', 'incision', 'include', 'included', 'includes', 'including', 'incompatible', 'inconsolable', 'increase', 'increased', 'increasing', 'indefinitely', 'independent', 'independently', 'indicate', 'indicated', 'indication', 'individual', 'infant', 'infection', 'influence', 'influenza', 'inform', 'information', 'informed', 'infusing', 'infusion', 'inha', 'inhalation', 'inhale', 'inhaler', 'inhaling', 'inherited', 'initiate', 'injection', 'injector', 'injured', 'injury', 'injustice', 'inpatient', 'insect', 'insight', 'inspection', 'instructed', 'instruction', 'instrumental', 'insulin', 'intake', 'intelligibility', 'intelligibly', 'intensive', 'interaction', 'interactive', 'intercourse', 'interest', 'interested', 'interim', 'internally', 'interpretation', 'interpreter', 'interval', 'intervention', 'interventional', 'interviewed', 'intolerance', 'intramuscular', 'intramuscularly', 'intranasal', 'investment', 'involuntary', 'involved', 'iop', 'ipratropium', 'irb', 'iron', 'irregular', 'irritable', 'irritation', 'issue', 'itching', 'itchy', 'itinerary', 'iui', 'iv', 'jaundice', 'jaw', 'jelly', 'jewelry', 'job', 'joint', 'kenalog', 'kept', 'kidney', 'kit', 'knee', 'knife', 'knowledge', 'known', 'lab', 'labium', 'laboratory', 'language', 'lantus', 'large', 'latex', 'latin', 'ldl', 'lead', 'leakage', 'learn', 'learning', 'learns', 'least', 'leave', 'led', 'left', 'leg', 'legal', 'legsor', 'leisure', 'length', 'let', 'lethargy', 'level', 'lidocaine', 'life', 'lifelong', 'lifestyle', 'lift', 'lifting', 'ligation', 'light', 'lightheadedness', 'likelihood', 'likely', 'limitation', 'limited', 'limp', 'line', 'lip', 'list', 'listed', 'listening', 'liter', 'literature', 'lithium', 'lithotomy', 'little', 'live', 'liver', 'living', 'lobe', 'local', 'localized', 'lock', 'locked', 'long', 'longer', 'look', 'loose', 'lorazepam', 'loss', 'lost', 'loud', 'low', 'lower', 'lowest', 'lumen', 'lump', 'lung', 'machinery', 'macrobid', 'macular', 'mailed', 'maintain', 'maintaining', 'major', 'majority', 'making', 'male', 'managed', 'management', 'managing', 'manipulate', 'manual', 'margin', 'marked', 'marrow', 'mask', 'match', 'material', 'maxair', 'maxi', 'maxillary', 'maximum', 'mayo', 'mcg', 'mcv', 'md', 'meal', 'mean', 'meaning', 'mechanic', 'medical', 'medication', 'medicine', 'mediterranean', 'meet', 'meeting', 'melena', 'mellitus', 'member', 'membrane', 'men', 'meningococcal', 'mental', 'meq', 'met', 'metatarsophalangeal', 'method', 'mfip', 'midline', 'milligram', 'mind', 'minimal', 'minimize', 'minnesota', 'minocycline', 'minor', 'minute', 'miralax', 'miscarriage', 'mix', 'mmr', 'moaning', 'mobility', 'moderate', 'moderation', 'modification', 'modified', 'modifier', 'modifying', 'molecular', 'mom', 'monitored', 'month', 'mood', 'morning', 'mother', 'motion', 'motivational', 'motor', 'motorcycle', 'mouth', 'move', 'movement', 'mucous', 'muffled', 'multidisciplinary', 'multiple', 'multisystem', 'multivitamin', 'muscle', 'musculoskeletal', 'mutation', 'nacl', 'nail', 'name', 'narcotic', 'nasacort', 'nasal', 'nasally', 'nausea', 'ncep', 'near', 'nearest', 'necessarily', 'necessity', 'neck', 'need', 'needed', 'needle', 'negative', 'neglect', 'nerve', 'nervous', 'neurologic', 'neuromuscular', 'neuropathy', 'new', 'newly', 'night', 'nitrofurantoin', 'noise', 'noisy', 'non', 'none', 'nonoperative', 'nonsteroidal', 'normal', 'normally', 'nose', 'note', 'noted', 'noticeably', 'notified', 'notify', 'noting', 'novolin', 'novolog', 'nph', 'number', 'numbness', 'numeric', 'nurse', 'nursing', 'nutrition', 'nutritional', 'oap', 'obeys', 'object', 'objective', 'observation', 'observe', 'obstructive', 'obtained', 'obtaining', 'obvious', 'occasional', 'occasionally', 'occupational', 'occur', 'occurring', 'odegarden', 'odor', 'offer', 'offered', 'oily', 'old', 'older', 'one', 'ongoing', 'onset', 'open', 'operate', 'operation', 'operative', 'ophthalmologist', 'opportunity', 'option', 'optometrist', 'oral', 'order', 'organ', 'organizing', 'oriented', 'original', 'orthopedic', 'otalgia', 'outcome', 'outer', 'outline', 'outlined', 'outpatient', 'output', 'outside', 'ovary', 'overnight', 'overuse', 'oxycodone', 'pa', 'pack', 'pacu', 'pad', 'padded', 'pain', 'painful', 'pak', 'pale', 'palm', 'palpitation', 'pamphlet', 'pancreas', 'papillomavirus', 'paralysis', 'parameter', 'parent', 'part', 'participant', 'participate', 'participating', 'participation', 'partner', 'party', 'pas', 'passed', 'passing', 'passive', 'past', 'patch', 'patency', 'pathology', 'patient', 'pattern', 'pause', 'pe', 'peace', 'pediatric', 'peeling', 'peer', 'pen', 'percent', 'perform', 'performed', 'period', 'perioperative', 'peripheral', 'permethrin', 'permission', 'persistent', 'persisting', 'person', 'personal', 'personally', 'pertaining', 'pertinent', 'pertussis', 'pharyngitis', 'phase', 'phone', 'phq', 'physical', 'physician', 'piece', 'pigmentation', 'pink', 'pitched', 'place', 'placed', 'placement', 'plan', 'planned', 'planning', 'plantar', 'play', 'playful', 'please', 'po', 'pocket', 'point', 'poison', 'polyethylene', 'pool', 'poor', 'position', 'positive', 'possibility', 'possible', 'post', 'postnasal', 'postoperative', 'postoperatively', 'potassium', 'potential', 'powder', 'power', 'pox', 'prc', 'pre', 'precaution', 'prednisone', 'preference', 'preferred', 'pregnancy', 'prep', 'preparation', 'prepared', 'prepped', 'prescribed', 'prescriber', 'prescribing', 'prescription', 'presence', 'present', 'presented', 'preservative', 'pressed', 'pressure', 'prevent', 'preventative', 'prevention', 'preventive', 'previous', 'primary', 'printed', 'prior', 'prn', 'problem', 'problematic', 'procedural', 'procedure', 'proceed', 'proceeding', 'process', 'profundus', 'profuse', 'prognosis', 'program', 'progress', 'proliferative', 'prolonged', 'promote', 'promotion', 'properly', 'propionate', 'proposed', 'prostate', 'prostatic', 'protocol', 'protruding', 'proventil', 'provide', 'provided', 'provider', 'psychoeducational', 'psychotherapy', 'puff', 'puffiness', 'pulling', 'pulmicort', 'pulmonary', 'pump', 'puncture', 'pupil', 'purple', 'purpose', 'purpural', 'purpuric', 'pursue', 'quadriceps', 'question', 'radial', 'radiographic', 'rail', 'raise', 'raised', 'rapid', 'rash', 'raspy', 'rate', 'rated', 'rcu', 'reach', 'reaching', 'reaction', 'reactogenicity', 'read', 'readiness', 'reading', 'ready', 'reason', 'recapitulation', 'receive', 'received', 'recent', 'recently', 'receptive', 'recess', 'recessive', 'recheck', 'recipient', 'recommend', 'recommendation', 'reconciled', 'reconstruction', 'record', 'recorded', 'recovered', 'recovery', 'rectal', 'recurred', 'recurrence', 'recurrent', 'recurring', 'red', 'redness', 'reduce', 'reduced', 'reduction', 'reexamined', 'referred', 'refi', 'refil', 'refill', 'refusing', 'regard', 'regardless', 'regimen', 'regular', 'regularly', 'rehabilitation', 'relapse', 'related', 'relates', 'relationship', 'relaxation', 'relayed', 'release', 'relief', 'relieved', 'religious', 'remain', 'remainder', 'remained', 'reminder', 'removal', 'remove', 'repair', 'repeating', 'repellent', 'report', 'reported', 'reporting', 'representative', 'represents', 'reproduced', 'request', 'requested', 'required', 'requirement', 'requires', 'research', 'resected', 'resident', 'resolve', 'resolved', 'resource', 'respected', 'respiration', 'respiratory', 'response', 'responsible', 'resting', 'restless', 'result', 'resuscitation', 'retinopathy', 'retraction', 'return', 'returned', 'review', 'reviewed', 'reviewing', 'rff', 'rhythm', 'rib', 'ride', 'right', 'ring', 'ripping', 'risk', 'rmw', 'rn', 'role', 'roof', 'room', 'round', 'route', 'routine', 'runny', 'sad', 'safety', 'saline', 'sample', 'satisfaction', 'satisfied', 'saw', 'sc', 'scale', 'scan', 'scar', 'schedule', 'scheduled', 'sclerotherapy', 'score', 'screen', 'screening', 'scrub', 'seat', 'seatbelt', 'second', 'secretary', 'secretion', 'sedated', 'see', 'seeing', 'seen', 'segment', 'seizure', 'self', 'semen', 'sensation', 'sense', 'sensitive', 'sensitivity', 'sensory', 'sent', 'sentence', 'separation', 'serenity', 'service', 'session', 'set', 'seven', 'severe', 'severity', 'sexual', 'sexuality', 'shaking', 'shared', 'sharp', 'sheet', 'shell', 'shopping', 'short', 'shortness', 'shot', 'shoulder', 'shower', 'shut', 'sickle', 'side', 'sided', 'sig', 'sign', 'signed', 'significance', 'significant', 'similar', 'simple', 'sinus', 'sinusitis', 'sit', 'site', 'sits', 'sitting', 'situation', 'six', 'skill', 'skilled', 'skin', 'skipped', 'sleep', 'sleepiness', 'sleepy', 'sling', 'slipping', 'slurred', 'small', 'smelling', 'smiling', 'smoke', 'smoked', 'smoker', 'smoking', 'sneezing', 'social', 'soft', 'softener', 'sol', 'solely', 'solostar', 'solution', 'solving', 'somali', 'sooner', 'sore', 'sound', 'sp', 'space', 'spanish', 'speak', 'speaking', 'special', 'specific', 'specifically', 'specified', 'speck', 'speech', 'spent', 'spider', 'spinal', 'spiritual', 'spiriva', 'splint', 'spoken', 'sporting', 'spot', 'spouse', 'sprain', 'spreading', 'spt', 'sputum', 'st', 'stabbing', 'stable', 'staff', 'stained', 'stair', 'stand', 'standing', 'starting', 'state', 'stated', 'station', 'status', 'stay', 'steady', 'step', 'sterile', 'sterilely', 'sterilization', 'sticky', 'stiff', 'sting', 'stool', 'stop', 'storage', 'stored', 'straight', 'straighten', 'straightening', 'strategy', 'streaking', 'stream', 'street', 'strength', 'strep', 'streptococcal', 'stretcher', 'stridor', 'stroke', 'structured', 'structuring', 'struggling', 'study', 'stump', 'style', 'subcutaneous', 'subject', 'submerging', 'substance', 'substantial', 'successfully', 'sudden', 'suddenly', 'suggested', 'suggestion', 'suicidal', 'sulfa', 'summary', 'sunscreen', 'superovulation', 'supervising', 'supervision', 'supplement', 'supply', 'support', 'supra', 'surgery', 'surgical', 'suspected', 'suspension', 'sustained', 'swallow', 'swallowing', 'sweat', 'sweating', 'swelling', 'swollen', 'symmetrical', 'symptom', 'symptomatic', 'symptomsthis', 'syncope', 'syndrome', 'system', 'systemic', 'systolics', 'ta', 'tab', 'tablet', 'tachypneic', 'taken', 'taking', 'tantrum', 'tar', 'task', 'taught', 'taxi', 'tdap', 'teaching', 'team', 'tearing', 'technique', 'teeth', 'telephone', 'temperature', 'temperatureof', 'temporarily', 'ten', 'tender', 'tendon', 'tendonitis', 'tense', 'term', 'terror', 'test', 'testing', 'testosterone', 'tetanus', 'text', 'thats', 'therapeutic', 'therapist', 'therapy', 'thick', 'thigh', 'thoroughly', 'thought', 'three', 'throat', 'thumb', 'thunder', 'tid', 'tightness', 'time', 'tingling', 'tired', 'tissue', 'tm', 'tobacco', 'today', 'toe', 'toilet', 'toileting', 'tolerate', 'tolerated', 'tolerating', 'tongue', 'tony', 'tool', 'topic', 'topically', 'total', 'totally', 'touch', 'towel', 'toxoid', 'trachea', 'tracing', 'tract', 'training', 'transdermally', 'transducer', 'transfer', 'transferred', 'transfusion', 'transition', 'translation', 'transplant', 'transport', 'transportation', 'transported', 'trauma', 'travel', 'traveler', 'traveling', 'treat', 'treated', 'treatment', 'tremor', 'trial', 'triamcinolone', 'triglyceride', 'trimethoprim', 'trisomy', 'tropical', 'trouble', 'tub', 'tubal', 'tube', 'tuberculosis', 'tubing', 'tucked', 'twice', 'two', 'ulcer', 'ulnar', 'ultrasound', 'unable', 'unaccompanied', 'unchanged', 'uncomfortable', 'uncontrollable', 'uncontrolled', 'undergone', 'underlying', 'understanding', 'understands', 'understood', 'underway', 'uneventfully', 'unexplained', 'unformed', 'unintentional', 'unit', 'universal', 'unknown', 'unremarkable', 'unsedated', 'unspecified', 'unsteady', 'upcoming', 'upper', 'urethra', 'urgency', 'urgent', 'urgently', 'urinary', 'urinate', 'urinating', 'urination', 'urine', 'use', 'usual', 'usually', 'utilized', 'va', 'vacation', 'vaccination', 'vaccine', 'vagina', 'vaginal', 'varenicline', 'varicella', 'varicose', 'vein', 'ventolin', 'verbal', 'verbalization', 'verbalize', 'verbalized', 'verbally', 'verified', 'verify', 'versus', 'video', 'videotape', 'view', 'viewed', 'violence', 'viral', 'virus', 'visible', 'vision', 'visit', 'visual', 'vitamin', 'vocalization', 'voice', 'voiced', 'volume', 'vomit', 'vomiting', 'vulva', 'wa', 'walker', 'walking', 'warfarin', 'warm', 'warmth', 'washing', 'water', 'way', 'weak', 'weakness', 'wear', 'wearing', 'week', 'weekend', 'weekly', 'weight', 'well', 'wetting', 'wheelchair', 'wheezing', 'wheezy', 'whimper', 'white', 'whomever', 'wic', 'wide', 'widespread', 'wife', 'willingness', 'wish', 'wished', 'woman', 'word', 'work', 'workbook', 'worker', 'working', 'worse', 'worsen', 'worsening', 'worst', 'wound', 'wrap', 'wrist', 'write', 'written', 'xylocaine', 'yard', 'year', 'yearly', 'yellow', 'yellowish', 'yes', 'zone']\n",
      "Stored 'feat' (list)\n"
     ]
    }
   ],
   "source": [
    "# training: tf-idf + Random Forest\n",
    "\n",
    "from sklearn.feature_extraction.text import TfidfVectorizer\n",
    "\n",
    "vectorizer1 = TfidfVectorizer()\n",
    "\n",
    "sent1_vec = vectorizer1.fit_transform(dtree1)\n",
    "sent2_vec = vectorizer1.fit_transform(dtree2)\n",
    "\n",
    "\n",
    "train_vecs1 = vectorizer1.transform(train_text1)\n",
    "train_vecs2 = vectorizer1.transform(train_text2)\n",
    "\n",
    "test_vecs1 = TfidfVectorizer(vocabulary=vectorizer1.vocabulary_).fit_transform(test_text1)\n",
    "test_vecs2 = TfidfVectorizer(vocabulary=vectorizer1.vocabulary_).fit_transform(test_text2)\n",
    "feat = vectorizer1.get_feature_names()\n",
    "print(feat)\n",
    "%store feat\n"
   ]
  },
  {
   "cell_type": "code",
   "execution_count": 16,
   "metadata": {
    "pycharm": {
     "name": "#%%\n"
    }
   },
   "outputs": [
    {
     "data": {
      "text/plain": [
       "RandomForestRegressor(bootstrap=True, ccp_alpha=0.0, criterion='mse',\n",
       "                      max_depth=6, max_features='auto', max_leaf_nodes=None,\n",
       "                      max_samples=None, min_impurity_decrease=0.0,\n",
       "                      min_impurity_split=None, min_samples_leaf=1,\n",
       "                      min_samples_split=2, min_weight_fraction_leaf=0.0,\n",
       "                      n_estimators=100, n_jobs=None, oob_score=False,\n",
       "                      random_state=None, verbose=0, warm_start=False)"
      ]
     },
     "execution_count": 16,
     "metadata": {},
     "output_type": "execute_result"
    }
   ],
   "source": [
    "# train model\n",
    "from sklearn.ensemble import RandomForestRegressor\n",
    "reg1 = RandomForestRegressor(max_depth=6).fit(train_vecs1, train_labels)\n",
    "reg2 = RandomForestRegressor(max_depth=6).fit(train_vecs2, train_labels)\n",
    "reg1"
   ]
  },
  {
   "cell_type": "code",
   "execution_count": 17,
   "metadata": {
    "pycharm": {
     "name": "#%%\n"
    }
   },
   "outputs": [
    {
     "name": "stdout",
     "output_type": "stream",
     "text": [
      "MSE for Sentence  1:  1.1771395289616289\n",
      "--------------------------------------------\n",
      "MSE for Sentence  2:  1.1620100266864666\n"
     ]
    }
   ],
   "source": [
    "# test model\n",
    "\n",
    "from sklearn.metrics import mean_squared_error\n",
    "test_pred1 = reg1.predict(test_vecs1)\n",
    "test_pred2 = reg2.predict(test_vecs2)\n",
    "\n",
    "a_mse1 = mean_squared_error(test_labels, test_pred1)\n",
    "a_mse2 = mean_squared_error(test_labels, test_pred2)\n",
    "\n",
    "print('MSE for Sentence  1: ', a_mse1)\n",
    "\n",
    "print(\"--------------------------------------------\")\n",
    "\n",
    "print('MSE for Sentence  2: ', a_mse2)\n"
   ]
  },
  {
   "cell_type": "markdown",
   "metadata": {},
   "source": [
    "#### Similarity Measures - Cosine"
   ]
  },
  {
   "cell_type": "code",
   "execution_count": 18,
   "metadata": {
    "pycharm": {
     "name": "#%%\n"
    }
   },
   "outputs": [
    {
     "name": "stdout",
     "output_type": "stream",
     "text": [
      "[0.9672555552521551, 0.5769009002492103, 0.6167820213944601, 0.8007495847105559, 0.42952220136666713, 0.27317960965515303, 0.47275742478210925, 0.5743667326801359, 0.0, 0.3952299614713378, 0.8324866360967071, 0.021191442396272235, 0.39405312322474423, 0.6982533219471078, 0.6832819738784746, 0.8547363500068171, 0.45638352457484566, 0.8955286170671726, 0.8350557755423611, 0.7375021721377085, 0.879228294508573, 0.8374276311820041, 0.7270055417036316, 0.6467201610585418, 0.9135973035145287, 0.7154891716315852, 0.09289784311358679, 0.7902365498340317, 0.9286673183556805, 0.9458813553272893, 0.9533106598192781, 1.0000000000000002, 0.5309715943365698, 0.5704611795196461, 0.16301876030693688, 0.7195566218004503, 0.0, 0.8123188320310115, 0.49152314595602076, 0.4704617101604808, 0.8103841838967383, 0.0, 0.5840097574450649, 0.3105789803979271, 0.008850523339721271, 0.4092827281441523, 0.39645531912871756, 0.6416523151843416, 0.6101942848539215, 0.8921458868645213, 0.4457398473967184, 0.005377561702488809, 0.6631534292556712, 0.9208329322086883, 0.7603409256088582, 0.8541681749921505, 0.7970690562258524, 0.8854450081584581, 0.6518641829029888, 0.7403504179833333, 0.16531187771523356, 0.6433139929392276, 0.113754929635635, 0.8400066535835599, 0.5776320481861872, 0.20658040634306624, 0.36188599561811413, 0.7408234152711722, 0.48326235139269996, 0.7248896828750573, 0.7521552469923298, 0.3542157022187723, 0.6231768461915866, 0.7223090865891616, 0.7165249641751515, 0.31384059136942755, 0.4945431392786209, 0.633747101660206, 1.0, 0.5891400278570146, 0.5997213662302724, 0.6883483641668307, 0.8458269338493207, 0.8579296680396893, 0.5679183618127047, 0.21495153503710923, 0.2787317395425846, 0.24662487824179055, 0.3248436956633432, 0.9648448747084934, 0.8448669303962195, 0.6441088667014936, 0.7800540289906204, 0.7507556800173799, 0.4940956428102497, 0.6433891970145589, 0.2686773509229882, 0.26408042444397606, 0.10607590981570854, 0.4093172386125189, 0.016593973665288485, 0.8876223683351674, 0.34250992320495094, 0.9611402806948628, 0.8823524116415095, 0.6173859716478243, 0.605791820972883, 0.5797258513409654, 0.24233622851914433, 0.9957242855003214, 0.9006451516596057, 0.0, 0.7612003398582087, 0.6556865127511351, 0.2995907733090616, 0.8140067282916816, 0.9769875744217094, 0.41019570838438657, 0.07205375911181368, 0.4468426821071322, 0.8428941822504213, 0.9503360430941153, 0.8726822215780994, 0.239618769100835, 0.9194783848934331, 0.5692904400879901, 0.8841604848326448, 0.6027247864895653, 0.4541989448606172, 0.7328059330014128, 0.6471406464950795, 0.7457027540047391, 0.9393996405894965, 0.81848708985185, 0.7438936408284993, 0.822587696963519, 0.8585747585356336, 0.00847814986461609, 0.71754689837289, 0.3046259130836986, 0.8976519301809334, 0.825976079315264, 0.6727196856811156, 0.798986874480831, 0.28764573519964254, 0.3208936671146308, 0.7325754004399176, 0.8840358491706519, 0.930525830915295, 0.2976711689236699, 0.21459033577432612, 0.7884135856438028, 0.6605138199233472, 0.9763227673898147, 0.8729527449758883, 0.5648090553472407, 0.3701092343478218, 0.4775633251829546, 0.4909922716597053, 0.7233888997967064, 0.8556522024718348, 0.920343636682725, 0.1570862368842961, 0.43468851773123574, 0.8568443863185465, 0.8617532862263088, 0.2747095438246974, 0.6963413780235377, 0.8996604035900531, 0.5618092119822757, 0.4717925318129551, 0.06762114137391861, 0.7911012945538318, 0.9501635392979044, 0.48784957500312165, 0.8777627902536904, 0.563211517148772, 0.5840729246803043, 0.8370254026542786, 0.7068203963662443, 0.8671572366555126, 0.465305984351145, 0.7393425101891654, 0.4750379838366179, 0.41868740806793153, 0.9370751315383196, 0.4020449629517615, 0.8535329755645564, 0.6753825125422621, 0.06609308470879144, 0.4119557512116986, 0.09646708602185455, 0.38696728168910943, 0.7847288408614899, 0.7270055417036316, 0.3776175265997, 0.8796878622685038, 0.0, 0.7715207081134547, 0.841848251159917, 0.37425940694663856, 0.6895632275050216, 1.0, 0.818299531581839, 0.4578167367468138, 0.12700563440883972, 0.757797934461246, 0.5873346062188567, 0.5360900769876064, 0.14241214947954192, 0.5980587393982973, 0.5964569151520888, 0.8283010163179136, 0.47191878978127166, 0.28938697304111094, 0.591852079586466, 0.8645720353148365, 0.2562667677629232, 0.013559681184093446, 0.5301332522432675, 0.5895750068010308, 0.0, 0.4438892526889183, 0.8058458012110381, 0.6729116655115513, 0.9104041030857825, 0.03402786912821165, 0.7800942699820331, 0.21481982245979023, 0.1760057003909473, 0.5345906520550734, 0.3088716380676346, 0.14962919605509065, 0.2747140315629046, 0.10057141958639405, 0.5275167634927432, 0.6401259042391327, 0.4837920403423983, 0.12929243449998912, 0.5024812224935871, 0.6233388980737505, 0.005132709175897157, 0.8879474941820359, 0.8513504306726615, 0.0, 0.30444884955309487, 0.5617975005402012, 0.7455011253335212, 0.9229367643269473, 0.7630283157795852, 0.5388841302133986, 0.8908323420990399, 0.912566653988407, 0.31849237959357735, 0.4917712593446924, 0.0, 0.6075303790204503, 0.85901453480426, 0.6370095401057232, 0.3472425486529559, 0.7263282619357094, 0.41699119785754707, 0.6410463708864163, 0.8445457084056851, 0.82762049083436, 0.6917055310746124, 1.0, 0.7051900389837943, 0.5940680794451243, 0.5479631493374576, 0.44382115424172536, 0.8854145022602202, 1.0000000000000002, 0.7587778371557219, 0.009187766542639588, 0.7680788513670148, 0.9046369122185252, 0.8294569136440213, 0.0, 0.7633019376926736, 0.5710113938334793, 0.7738029631478647, 0.019969019426682475, 0.7207452386518973, 0.3055631074723701, 0.4600077439420536, 0.4774344543068804, 0.8797242751442887, 0.8599736972206249, 0.21891621940977907, 0.5764348155488375, 0.6948575404307414, 0.6351231391633207, 0.8809762373962209, 0.6518971473162272, 0.42729484883722957, 0.8999390286540976, 0.9152249786091112, 0.5354270726023922, 0.8633458362656874, 0.2927551480924223, 0.7655081917408066, 0.5107506135697707, 0.011792749514991853, 0.7042296834465821, 0.044886061230859885, 0.06868479791218352, 0.8975235181690654, 0.9333933106003047, 0.9011002094060949, 0.6195450305900894, 0.9481513900200987, 0.4727039753034688, 0.7870341556163285, 0.5992173093303194, 0.4951590408896671, 0.6128795311695603, 0.41763545344028674, 0.8764981314080315, 0.8018686051016825, 0.6391181523749789, 0.806488266007827, 0.38696484064469344, 0.47929915121939626, 0.6971529542503035, 0.9108648401218005, 0.6273575990828946, 0.8779452861538245, 0.8689950606021475, 0.8464171238325413, 0.8767726310560072, 0.5366062706030092, 0.6870820051443223, 0.608507880257501, 0.6044743730112205, 0.7531582619127366, 0.8350944471752155, 0.16009048111603497, 0.3710615237159598, 0.9070646021709173, 0.5789698699244743, 0.9772944949805166, 0.5260334423605377, 0.980770999349296, 0.5742743816322534, 0.7384932370727936, 0.2451550546119231, 0.35959561291112896, 0.7997605634902452, 0.2643712307756444, 0.37457410560840115, 1.0, 0.008143960928553132, 0.715716299992759, 0.4984705047440386, 0.6908376805765671, 0.9262005437445572, 0.4187380797883928, 0.6462691502447812, 0.038272301891008706, 0.7987731668133858, 0.7966062458372888, 0.9070614025052838, 0.42738924126745537, 0.781485196098339, 0.7642811958186478, 0.7564121448999, 0.8277966125879083, 0.9268684265273696, 0.8662958935625098, 0.6955404795675894, 0.2429827646966697, 0.9392228929704282, 0.23207735184081685, 0.8058674445382277, 0.5581428256278372, 0.2853559570965777, 0.3633685676029006, 0.6299983946075352, 0.5409432857972072, 0.7585776345767554, 0.8855246725432784, 0.011784399631645551, 0.4607905291220542, 0.5756293874888501, 0.1435056556467948, 0.8682764677329785, 0.4336401303078372, 0.8183411785283659, 0.6493116049517164, 0.8719247848481617, 0.5823947121313822, 0.4085820652839396, 0.473256431685505, 0.835984761912892, 0.6592234138724605, 0.7941454491198469, 0.583007845755928, 0.46295312492927543, 0.1657095214129414, 0.9968032502119856, 0.9689147211632996, 0.4138890353259984, 0.28666110971081327, 0.3750969674816826, 0.8628807811400339, 0.8930266419052972, 0.8192881056552039, 0.014214504312297534, 0.5024839450996226, 0.25357275232811105, 0.7683296150796238, 0.008993938333700978, 0.42364900526384397, 0.3999860511448319, 0.2124792733829826, 0.8177893442152186, 0.3597996972523799, 0.5738370981110804, 1.0000000000000002, 0.6458838221744208, 0.6235264115204261, 0.9292330477142233, 0.6158912377611945, 0.1095678590611496, 0.12373289889014913, 0.6514748172700653, 0.8623815694487408, 0.9315778207147407, 0.9007566779498529, 0.9165113769319754, 0.42266509811719466, 0.7881522373252663, 0.2441905322640791, 0.0, 0.47556378821714074, 0.6415209680034011, 0.420352295542764, 0.6090702907277041, 0.6797740628113559, 0.0500620390583473, 0.01642844794242646, 0.012444333921279555, 0.8371805666605836, 0.5507995459372642, 0.6126143488908627, 0.6176103394006511, 0.6816006332240251, 0.6946612083881176, 0.8611073910012599, 0.36356526304812176, 0.009230263114098919, 0.4381961739094709, 0.015141267083878914, 0.6346825035135338, 0.6629178972065117, 0.6103775561787141, 0.9588787515901308, 0.9241521532846098, 0.8720396941955051, 0.778673715948468, 0.5788881936490723, 0.32492704069045264, 0.6775776586924368, 0.38886357361502943, 0.916656213684426, 0.8462228606400519, 0.7856516933714148, 0.9315674331900985, 0.9935456141112318, 0.6734830107795928, 0.3522540182489574, 0.8658133875075598, 0.5475159551652331, 0.8921710703874072, 0.040161830224482664, 0.6994219302182789, 0.9711765901389091, 0.1839948097364697, 0.3014756191620558, 0.769747609667909, 0.5035048531946018, 0.6687009372322873, 0.40769584914642243, 0.6142504241411009, 0.5171689677344248, 0.07541697946268637, 0.9374201327537145, 0.5080641246376019, 0.03699409364132018, 0.4321278134252333, 0.8175418044298142, 0.2051525222849723, 0.04629673707411914, 0.5037517877090795, 0.8245314520095481, 0.4092200444153116, 0.887707332186614, 0.6380748024950182, 0.4012802137592505, 0.818394424065294, 0.6810526125580929, 0.8643669382833113, 0.6127347950172441, 0.90876552523893, 0.9627141472202173, 0.8177348955102379, 0.08655406175715241, 0.8966777117386024, 0.23006442658875428, 0.8169053143972249, 0.3866631407685434, 0.9116764969643946, 0.15437883245949166, 0.9521710841311197, 0.0, 0.37469526287939636, 0.813262173975479, 0.7858783177180763, 0.025676259561997646, 0.820912057901791, 0.3508671788178137, 0.389001446555495, 0.8702050391222199, 0.6705939331604558, 0.240989326143439, 0.5891990435138282, 0.9225143807185772, 0.5709691838236886, 1.0, 0.3407169632592484, 0.0, 0.5475159551652331, 0.8288606133671781, 0.9417968102082783, 0.08657620073530971, 0.5410545083372936, 0.6963621906128109, 0.2677729434960115, 0.9149684734720516, 0.3901080165774826, 0.827996295295256, 0.889695849715103, 0.515399196054971, 0.9035860517334229, 0.9367475216491, 0.8740419327661133, 0.23755924842474427, 0.962959015519468, 0.9236466071236245, 0.8351498323914084, 0.7916573349871577, 0.3676631272587844, 0.673963604314093, 0.7703851260610356, 0.15874657729513703, 0.1824689518483865, 0.06256344640847648, 0.23464738986524214, 0.7158772109127104, 0.9415596177011413, 0.46186087280434385, 0.7216880627802752, 0.8346079862588743, 0.7729911281336875, 0.661727747605207, 0.8230750078515953, 0.7746439197839673, 0.013093981635383554, 0.4447053826046441, 0.1942414928583393, 0.814340780085464, 0.010849232135905886, 0.8589777300149902, 0.9165855015988881, 0.7171263716999047, 0.8364347703733779, 0.5865791178483649, 0.5703120609037691, 0.5962030440758906, 0.3055700375652002, 0.5926885824588675, 0.20070879932506444, 0.449750760899852, 0.8413696601657721, 0.5865991691020169, 1.0, 0.7880303576493575, 0.6280418544698341, 0.34314794009707106, 0.7918366795618936, 0.7797960556703442, 0.16542775993601666, 0.803974286837032, 0.6864202974718044, 0.5589130447238188, 0.8004268891348182, 0.4594276208173318, 0.060160388877014, 0.8721215087884759, 0.39717751091518255, 0.8467491829523609, 0.7277477360587064, 0.3959327698056297, 0.8097260487426474, 0.7503859331435356, 0.8549178065199021, 0.7839871509851662, 0.0, 0.7762507097477349, 0.37848748855935344, 0.3488529618578244, 0.6849115308245974, 0.5290812654535783, 0.4334095974004675, 0.8566973264479635, 0.7186519401927872, 0.8269900316877653, 0.041242673098525404, 0.8329934770902754, 0.8082689626479279, 0.872428363370815, 0.09796000660266574, 0.2818760130115636, 0.7019085501448268, 0.46854941822339286, 0.3341916183643223, 0.4547470345038766, 0.8572101312867325, 0.6722820245662843, 0.44382115424172536, 0.8857725137941136, 0.727095344401797, 0.796072827372144, 0.768473835050613, 0.9885007589790634, 0.36124253534639983, 0.14625007523803873, 0.3241317212793449, 0.26242586843133864, 0.17978689668964354, 0.0, 0.41683479069121077, 0.33733798675318705, 0.28796059840888366, 0.0, 0.843055107424047, 0.16508730092564491, 0.18042558462932537, 0.9599336022991162, 0.8470091987554963, 0.057758846732162604, 0.009992205089429251, 0.972254681049079, 0.9579266746891242, 0.55637896653484, 0.5521786538107596, 0.9601236189718159, 0.6606579682895654, 0.8928014634049828, 0.541139433686826, 0.9506267177184321, 0.7116796511521246, 0.9004099604466792, 0.4510370794781901, 0.32492704069045264, 0.9302089110007452, 0.7161837894440625, 0.33455110938296884, 0.15728174249768276, 0.8439655223409614, 0.3576124811570096, 0.5498957204305244, 0.8376955882683734, 0.9368191867948586, 0.2438001511357423, 0.6098902065401796, 0.8290922382129609, 0.2721647202428784, 0.36933118345360993, 0.6774415366790271, 0.8414509756585774, 0.810944498025587, 0.7339713912726238, 0.5863664625895483, 0.5431586688668364, 0.7947367036913164, 0.6911338466196749, 0.877269107739562, 0.8599181879082541, 0.01736860722864595, 0.7507874570675225, 0.6551563219842296, 0.6761717684073888, 0.9354938437598608, 0.5641676696899401, 0.4368435187080597, 0.8149425942499492, 0.7110452332211675, 0.022506679241414855, 0.6947804079324623, 0.6358925994960806, 0.7851958852101094, 0.4146005023690126, 0.9470424851589022, 0.8305763707865153, 0.2499502008892759, 0.10097931198632226, 0.034924632924853975, 0.7290359446521724, 0.58681440681834, 0.6792828286989715, 0.7995786023213002, 0.912566653988407, 0.13931505992712118, 0.5378163264782023, 0.9329270598619065, 0.19666454322709162, 0.6319188536957943, 0.6810881715275243, 0.4491893401754429, 0.5639473767121623, 0.5077003161983595, 0.8399875072068789, 0.6114091159345354, 1.0000000000000002, 0.8595336020050266, 0.30693966721174193, 0.9148016199771981, 0.5227652901449564, 0.7481924534609514, 0.6985800119397164, 0.7507874570675225, 0.767031710086942, 0.6481952759501631, 0.3318474328281369, 0.38412596708696534, 0.6801068476041161, 0.11345470504124114, 0.7506104210074848, 0.7586314744390193, 0.9174485397127219, 0.5310924940391012, 0.5334705899207276, 0.5224373364295859, 0.7456495756943592, 0.7916573349871577, 0.9445335679609032, 0.45190707863088164, 0.8196016365186541]\n"
     ]
    },
    {
     "name": "stdout",
     "output_type": "stream",
     "text": [
      "[0.41955002807978437, 0.42864695991955504, 0.6593588903909994, 0.5757684957110678, 0.4469676306596063, 0.9443478272356218, 0.6059305621954767, 0.6270716381262907, 0.5336417302822222, 0.9774703219599673, 0.016654212887699915, 0.30283655132917053, 0.903700271873311, 0.8117255708783296, 0.08122960001332108, 0.8660491305012777, 0.845936626885618, 0.719545871841021, 0.5401374898393766, 0.22668790099884462, 0.5689229792463723, 0.19427417438499445, 0.8364249907104412, 0.5238918802976268, 0.47902339901719426, 0.49354257266557094, 0.6016746716219257, 0.5143992075453849, 0.2612487983273119, 0.5372498379469135, 0.933185577551074, 0.8196442395431953, 0.9045669421549887, 0.7732551281231378, 0.6614122712432612, 0.8544309822172619, 0.1306307537987535, 0.9335902300556921, 0.7873103296232846, 0.827084036249666, 0.6752339514122113, 0.7851252251801072, 0.46483268809451045, 0.8722268577590564, 0.961137240258262, 0.8194606127351742, 0.07865467405608227, 0.25622595213214877, 0.958731964245483, 0.7505980319541631, 0.469865193969013, 0.85031037589117, 0.407561298840997, 0.7039361228162792, 0.9082685215085865, 0.4045233271612916, 0.7220154706652304, 0.8953348888381566, 0.021144843402125347, 0.7420159422231621, 0.992205821747499, 0.09144232398168994, 0.6787910670693611, 0.05547043361419175, 0.46375641927220873, 0.7951380171550531, 0.7072052372084007, 0.3458312946299619, 0.6282790009721092, 0.8883280467273136, 0.05515305853476146, 0.9734727880726798, 0.6401289746302333, 0.9124590152153209, 0.8555479936639516, 0.9059835733459412, 0.9102952134975965, 0.8040881747045036, 0.9418563929492884, 0.958183842986283, 0.9123023340874212, 0.3125854348591153, 0.2676904977612157, 0.6649811041104208, 0.7449106476068207, 0.9225670492696177, 0.7081758775391215, 0.04244274829608863, 0.4073981971984795, 0.6288782855514613, 0.7376136436681473, 0.6141733203511601, 0.9400966991028094, 0.7468684156719507, 0.7507137242121078, 0.12158261613690449, 0.7885776849829761, 0.8756074914527296, 0.43295716751694324, 0.884203023598021, 0.8190814653624913, 0.924490951576249, 0.829031813887054, 0.6323178644799834, 0.5014689020058687, 0.44038688351936933, 0.8311142661286546, 0.7094243804308799, 0.8684723431044568, 0.8564027465840247, 0.265960628012215, 0.8574637566646509, 0.8654108693317492, 0.5053138134025443, 0.13763415970144416, 0.7507228086012139, 0.0, 0.8347666416457965, 0.32506103238073425, 0.11954052984891425, 0.6710220921858894, 0.7678047856566048, 0.06953797485851326, 0.30701196001986414, 0.7819248972284288, 0.667593373298042, 0.947579214554334, 0.011177124732183812, 0.23498042192047275, 0.777978254863562, 0.44157964680027234, 0.7576855577710229, 0.6777679102434582, 0.954045480545514, 0.7144564130014517, 0.20363426263124268, 0.30591164226694345, 0.7632057580001912, 0.6809351016216483, 0.7559313981472012, 0.4644589872901188, 0.5338073195173006, 0.5984001000313051, 0.9020893448437584, 0.6885835402617552, 0.6580169023350155, 0.028480195662818925, 0.23861372815780246, 0.09186221895189317, 0.6479437025363439, 0.9118461909360557, 0.9119982902052699, 0.6614440863442166, 0.8809253804021335, 0.7410629110587359, 0.9083846011932228, 0.910779462407784, 0.8608231336579333, 0.4301468225156941, 0.589318857242247, 0.8634787790755526, 0.0883610412645612, 0.3584866911053518, 0.5984750496754536, 0.34338938545905917, 0.8352169680696635, 0.2888919807106914, 0.013853968996751209, 0.644916335232366, 0.5755226224859934, 0.9024151273975118, 0.4378861961688123, 0.038132641742126216, 0.4694605934150468, 0.529697992532124, 0.6230751375460127, 0.39672323885627603, 0.39138009113538164, 0.6510864403329268, 0.20537398572871873, 0.5218166901658109, 0.542175306048945, 0.8658943303663378, 0.9420580436264678, 0.39271134546114017, 0.8399109915922337, 0.5044942912650652, 0.8493698106199083, 0.8418362213724997, 0.4781972347732771, 0.9990772124072407, 0.8195709147009226, 0.90983416149825, 0.9188393012150714, 0.7848113955566468, 0.7391555677895223, 0.9667146293329546, 0.2922992819365159, 0.655463935981627, 0.36302828269098064, 0.5139593308705686, 0.0, 0.29983284167653007, 0.7727030026243872, 0.5520050742155042, 0.10851434197324711, 0.8370836758561074, 0.8915898812422511, 0.8583184816035831, 0.8470784899860055, 0.03300950351075715, 0.4390065545911971, 0.8505764619345635, 0.0, 0.06827314400063898, 0.9563391027504767, 0.7886524721137698, 0.6533779621159378, 0.743373769806239, 0.4829504305326669, 0.7358781505647509, 0.8968248283227973, 0.739991637199814, 0.8893896798382249, 0.7413284670004869, 0.4152967239321957, 0.33363726235231905, 0.5900268511220537, 0.476533310640337, 0.5448082852674251, 0.4887191169578091, 0.8213278883800932, 0.011213085856423272, 0.3574564555470219, 0.6567806909228686, 0.9364950391812732, 0.5901950605140253, 0.8640843915923632, 0.8388902805040056, 0.5488280942295896, 0.8526780392212969, 0.7878445005647526, 0.5142984979993392, 0.8544183878492034, 0.6575861302406742, 0.770996166590183, 0.48475737004903585, 0.8861843586916145, 0.28643359795053996, 0.9485135700034667, 0.7949169949467146, 0.9178010285376718, 0.5532250645473622, 0.7226377845190899, 0.7342274210547134, 0.7548831419660911, 0.7747079384555584, 0.8620360212748717, 0.5000719878906681, 0.4545522410552062, 0.2919008442657488, 0.4905443254071241, 0.9126095110431189, 0.41504894516626867, 0.06465391140960988, 0.9212590097794255, 0.6982477243671816, 0.8537584125359756, 0.6500131683500213, 0.9286270345520677, 0.8666317374592906, 0.7747635227979897, 0.14057178378066665, 0.8729792315736973, 0.6359447932955572, 0.046104466774891155, 0.3012190295474094, 0.8362786017070554, 0.5102353195856022, 0.6850729035201746, 0.5658448138928529, 0.569445060857767, 0.6240792557697339, 0.8676679038077257, 0.768234605252405, 0.9286377479776458, 0.3140570701511038, 0.7871092939496546, 0.5605322468152744, 0.6086626869346072, 0.6102618504647921, 0.06056516500115222, 0.3482359529696046, 0.6949204100579176, 0.5719770043798444, 0.597503911440298, 0.8822656527010256, 0.97349447534805, 0.727794877652619, 0.8549909771083809, 0.6320463040148867, 0.7768214835350734, 0.4307296643733579, 0.6904954831131862, 0.4330329608278237, 0.7089134359314664, 0.09956478783251536, 0.904225266445507, 0.8412382473406343, 0.6454176594475197, 0.8247383775351025, 0.9540176175764455, 0.012644074395153509, 0.9107761714688121, 0.5848657766096002, 0.4648167471911277, 0.031449758635629814, 0.6176499290221662]\n"
     ]
    },
    {
     "data": {
      "text/plain": [
       "318"
      ]
     },
     "execution_count": 18,
     "metadata": {},
     "output_type": "execute_result"
    }
   ],
   "source": [
    "from sklearn.metrics.pairwise import cosine_similarity\n",
    "\n",
    "a_cc=[]\n",
    "for i in range(0,750):\n",
    "    c= cosine_similarity(train_vecs1[i].reshape(1, -1), train_vecs2[i].reshape(1, -1))[0][0]\n",
    "    a_cc.append(c)\n",
    "print(a_cc)\n",
    "len(a_cc)\n",
    "\n",
    "a_cc1=[]\n",
    "for i in range(0,318):\n",
    "    c1= cosine_similarity(test_vecs1[i].reshape(1, -1), test_vecs2[i].reshape(1, -1))[0][0]\n",
    "    a_cc1.append(c1)\n",
    "print(a_cc1)\n",
    "len(a_cc1)"
   ]
  },
  {
   "cell_type": "markdown",
   "metadata": {},
   "source": [
    "##### Pearson Coefficient"
   ]
  },
  {
   "cell_type": "code",
   "execution_count": 22,
   "metadata": {
    "pycharm": {
     "name": "#%%\n"
    }
   },
   "outputs": [
    {
     "name": "stdout",
     "output_type": "stream",
     "text": [
      "Pearsons correlation for Train: 0.72501\n"
     ]
    }
   ],
   "source": [
    "# pearson Correlation \n",
    "\n",
    "import numpy as np\n",
    "from scipy.stats import pearsonr\n",
    "a_pc, _ = pearsonr(a_cc, train_labels)\n",
    "print('Pearsons correlation for Train: %.5f' % a_pc)"
   ]
  },
  {
   "cell_type": "code",
   "execution_count": 23,
   "metadata": {},
   "outputs": [
    {
     "name": "stdout",
     "output_type": "stream",
     "text": [
      "Pearsons correlation for Test: 0.70963\n"
     ]
    }
   ],
   "source": [
    "import numpy as np\n",
    "from scipy.stats import pearsonr\n",
    "a_pc_t, _ = pearsonr(a_cc1, test_labels)\n",
    "print('Pearsons correlation for Test: %.5f' % a_pc_t)"
   ]
  },
  {
   "cell_type": "code",
   "execution_count": null,
   "metadata": {},
   "outputs": [],
   "source": []
  },
  {
   "cell_type": "code",
   "execution_count": 24,
   "metadata": {},
   "outputs": [
    {
     "name": "stdout",
     "output_type": "stream",
     "text": [
      "Stored 'a_mse1' (float64)\n",
      "Stored 'a_mse2' (float64)\n",
      "Stored 'a_cc' (list)\n",
      "Stored 'a_cc1' (list)\n",
      "Stored 'a_pc' (float64)\n",
      "Stored 'a_pc_t' (float64)\n"
     ]
    }
   ],
   "source": [
    "#storing variables\n",
    "%store a_mse1\n",
    "%store a_mse2\n",
    "%store a_cc\n",
    "%store a_cc1\n",
    "%store a_pc\n",
    "%store a_pc_t"
   ]
  },
  {
   "cell_type": "code",
   "execution_count": null,
   "metadata": {},
   "outputs": [],
   "source": []
  }
 ],
 "metadata": {
  "kernelspec": {
   "display_name": "Python 3",
   "language": "python",
   "name": "python3"
  },
  "language_info": {
   "codemirror_mode": {
    "name": "ipython",
    "version": 3
   },
   "file_extension": ".py",
   "mimetype": "text/x-python",
   "name": "python",
   "nbconvert_exporter": "python",
   "pygments_lexer": "ipython3",
   "version": "3.7.7"
  }
 },
 "nbformat": 4,
 "nbformat_minor": 1
}
