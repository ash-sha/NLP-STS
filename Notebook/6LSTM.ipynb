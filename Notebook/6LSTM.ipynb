{
 "cells": [
  {
   "metadata": {},
   "cell_type": "markdown",
   "source": "# 3.3.5 LSTM for Sentence Similarity"
  },
  {
   "metadata": {},
   "cell_type": "code",
   "outputs": [],
   "execution_count": null,
   "source": [
    "import pandas as pd\n",
    "import numpy as np\n",
    "import torch\n",
    "import torch.nn as nn\n",
    "from sklearn.metrics import mean_squared_error\n",
    "from gensim.models import KeyedVectors\n",
    "from nltk.tokenize import word_tokenize\n",
    "from tqdm import tqdm\n",
    "import copy\n"
   ]
  },
  {
   "metadata": {},
   "cell_type": "code",
   "outputs": [],
   "execution_count": null,
   "source": [
    "data_path = \"clinic_c.csv\"\n",
    "word2vec_path = \"/Users/aswath/PycharmProjects/mfac038/IndividualProject/PubMed-and-PMC-w2v.bin\"\n",
    "\n",
    "df = pd.read_csv(data_path)\n",
    "print(df.head())\n",
    "\n",
    "# Split into train/dev/test sets\n",
    "train_text1, train_text2, train_labels = df[\"Sent1\"][:600], df[\"Sent2\"][:600], df[\"Score\"][:600]\n",
    "dev_text1, dev_text2, dev_labels = df[\"Sent1\"][600:750], df[\"Sent2\"][600:750], df[\"Score\"][600:750]\n",
    "test_text1, test_text2, test_labels = df[\"Sent1\"][750:], df[\"Sent2\"][750:], df[\"Score\"][750:]\n",
    "\n",
    "# Concatenate sentence pairs\n",
    "train_sentences = [f\"{s1} {s2}\" for s1, s2 in zip(train_text1, train_text2)]\n",
    "dev_sentences = [f\"{s1} {s2}\" for s1, s2 in zip(dev_text1, dev_text2)]\n",
    "test_sentences = [f\"{s1} {s2}\" for s1, s2 in zip(test_text1, test_text2)]\n"
   ]
  },
  {
   "metadata": {},
   "cell_type": "code",
   "outputs": [],
   "execution_count": null,
   "source": [
    "word_vectors = KeyedVectors.load_word2vec_format(word2vec_path, binary=True)\n",
    "print(f\"Word2Vec model loaded with {len(word_vectors)} words.\")\n"
   ]
  },
  {
   "metadata": {},
   "cell_type": "code",
   "outputs": [],
   "execution_count": null,
   "source": [
    "embd_dim = 200\n",
    "oov_vec = np.random.rand(embd_dim)\n",
    "\n",
    "def tokenize_and_pad(sentences, word_vectors, max_len=None):\n",
    "    \"\"\"Tokenize, vectorize, and pad sentences.\"\"\"\n",
    "    tokenized = [word_tokenize(sentence.lower()) for sentence in sentences]\n",
    "    max_len = max_len or max(len(tokens) for tokens in tokenized)\n",
    "    padded_vecs = [\n",
    "        np.vstack([word_vectors[word] if word in word_vectors else oov_vec for word in tokens] +\n",
    "                  [[0] * embd_dim] * (max_len - len(tokens)))\n",
    "        for tokens in tokenized\n",
    "    ]\n",
    "    return np.array(padded_vecs)\n",
    "\n",
    "def evaluate_model(model, sentences, labels, batch_size, word_vectors, loss_fn, device):\n",
    "    \"\"\"Evaluate the model's performance.\"\"\"\n",
    "    model.eval()\n",
    "    predictions = []\n",
    "    losses = []\n",
    "    with torch.no_grad():\n",
    "        for i in range(0, len(sentences), batch_size):\n",
    "            batch_sentences = sentences[i:i+batch_size]\n",
    "            batch_labels = torch.tensor(labels[i:i+batch_size], dtype=torch.float32, device=device)\n",
    "            batch_data = tokenize_and_pad(batch_sentences, word_vectors)\n",
    "            batch_tensor = torch.tensor(batch_data, dtype=torch.float32, device=device)\n",
    "\n",
    "            preds = model(batch_tensor).squeeze()\n",
    "            predictions.extend(preds.cpu().numpy())\n",
    "            losses.append(loss_fn(preds, batch_labels).item())\n",
    "    mse = mean_squared_error(labels, predictions)\n",
    "    return mse, np.mean(losses)\n"
   ]
  },
  {
   "metadata": {},
   "cell_type": "code",
   "outputs": [],
   "execution_count": null,
   "source": [
    "class RNNRegressor(nn.Module):\n",
    "    def __init__(self, embd_dim, hidden_dim, rnn_type=\"lstm\", pooler_type=\"avg\", dropout=0.5, device=\"cpu\"):\n",
    "        super(RNNRegressor, self).__init__()\n",
    "        self.device = device\n",
    "        assert rnn_type in [\"rnn\", \"lstm\", \"bilstm\", \"gru\"], \"Invalid RNN type\"\n",
    "        assert pooler_type in [\"max\", \"avg\"], \"Invalid pooler type\"\n",
    "\n",
    "        # RNN type\n",
    "        if rnn_type == \"rnn\":\n",
    "            self.rnn = nn.RNN(input_size=embd_dim, hidden_size=hidden_dim, batch_first=True, dropout=dropout)\n",
    "        elif rnn_type == \"lstm\":\n",
    "            self.rnn = nn.LSTM(input_size=embd_dim, hidden_size=hidden_dim, batch_first=True, dropout=dropout)\n",
    "        elif rnn_type == \"bilstm\":\n",
    "            self.rnn = nn.LSTM(input_size=embd_dim, hidden_size=hidden_dim, batch_first=True, bidirectional=True, dropout=dropout)\n",
    "        else:  # GRU\n",
    "            self.rnn = nn.GRU(input_size=embd_dim, hidden_size=hidden_dim, batch_first=True, dropout=dropout)\n",
    "\n",
    "        self.fc = nn.Linear(2 * hidden_dim if rnn_type == \"bilstm\" else hidden_dim, 1)\n",
    "        self.pooler_type = pooler_type\n",
    "\n",
    "    def forward(self, x):\n",
    "        output, _ = self.rnn(x)\n",
    "        if self.pooler_type == \"max\":\n",
    "            pooled = torch.max(output, dim=1)[0]\n",
    "        else:  # Average Pooling\n",
    "            pooled = torch.mean(output, dim=1)\n",
    "        return self.fc(pooled)\n"
   ]
  },
  {
   "metadata": {},
   "cell_type": "code",
   "outputs": [],
   "execution_count": null,
   "source": [
    "device = torch.device(\"cuda\" if torch.cuda.is_available() else \"cpu\")\n",
    "model = RNNRegressor(embd_dim=200, hidden_dim=200, rnn_type=\"bilstm\", pooler_type=\"avg\", dropout=0.5, device=device)\n",
    "model.to(device)\n",
    "\n",
    "loss_fn = nn.MSELoss()\n",
    "optimizer = torch.optim.Adam(model.parameters(), lr=0.001)\n",
    "scheduler = torch.optim.lr_scheduler.StepLR(optimizer, step_size=1, gamma=0.95)\n"
   ]
  },
  {
   "metadata": {},
   "cell_type": "code",
   "outputs": [],
   "execution_count": null,
   "source": [
    "n_epochs = 10\n",
    "batch_size = 32\n",
    "best_mse = float(\"inf\")\n",
    "best_model = None\n",
    "\n",
    "for epoch in tqdm(range(n_epochs)):\n",
    "    model.train()\n",
    "    epoch_losses = []\n",
    "    for i in range(0, len(train_sentences), batch_size):\n",
    "        batch_sentences = train_sentences[i:i+batch_size]\n",
    "        batch_labels = torch.tensor(train_labels[i:i+batch_size], dtype=torch.float32, device=device)\n",
    "        batch_data = tokenize_and_pad(batch_sentences, word_vectors)\n",
    "        batch_tensor = torch.tensor(batch_data, dtype=torch.float32, device=device)\n",
    "\n",
    "        # Forward pass\n",
    "        preds = model(batch_tensor).squeeze()\n",
    "        loss = loss_fn(preds, batch_labels)\n",
    "        epoch_losses.append(loss.item())\n",
    "\n",
    "        # Backward pass\n",
    "        optimizer.zero_grad()\n",
    "        loss.backward()\n",
    "        nn.utils.clip_grad_value_(model.parameters(), clip_value=3.0)\n",
    "        optimizer.step()\n",
    "\n",
    "    # Evaluate on dev set\n",
    "    dev_mse, _ = evaluate_model(model, dev_sentences, dev_labels, batch_size, word_vectors, loss_fn, device)\n",
    "    print(f\"Epoch {epoch+1}, Train Loss: {np.mean(epoch_losses):.4f}, Dev MSE: {dev_mse:.4f}\")\n",
    "\n",
    "    # Save best model\n",
    "    if dev_mse < best_mse:\n",
    "        best_mse = dev_mse\n",
    "        best_model = copy.deepcopy(model.state_dict())\n",
    "        print(f\"Best Model Updated: Dev MSE = {best_mse:.4f}\")\n",
    "\n",
    "    scheduler.step()\n"
   ]
  },
  {
   "metadata": {},
   "cell_type": "code",
   "outputs": [],
   "execution_count": null,
   "source": [
    "model.load_state_dict(best_model)\n",
    "test_mse, _ = evaluate_model(model, test_sentences, test_labels, batch_size, word_vectors, loss_fn, device)\n",
    "print(f\"Test MSE: {test_mse:.4f}\")\n"
   ]
  }
 ],
 "metadata": {
  "kernelspec": {
   "display_name": "Python 3",
   "language": "python",
   "name": "python3"
  },
  "language_info": {
   "codemirror_mode": {
    "name": "ipython",
    "version": 3
   },
   "file_extension": ".py",
   "mimetype": "text/x-python",
   "name": "python",
   "nbconvert_exporter": "python",
   "pygments_lexer": "ipython3",
   "version": "3.7.7"
  }
 },
 "nbformat": 4,
 "nbformat_minor": 1
}
