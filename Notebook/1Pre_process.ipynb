{
 "cells": [
  {
   "metadata": {},
   "cell_type": "markdown",
   "source": [
    "# CS5821 - INDIVIDUAL PROJECT\n",
    "### Measuring Sentence Similarity in Biomedical Domain using Deep Learning Models\n",
    "#### 3. Experiment\n",
    "#### 3.2 Preprocessing\n"
   ]
  },
  {
   "metadata": {
    "ExecuteTime": {
     "end_time": "2024-12-16T19:11:36.665805Z",
     "start_time": "2024-12-16T19:11:36.660909Z"
    }
   },
   "cell_type": "code",
   "source": [
    "import pandas as pd\n",
    "import os\n",
    "from nltk.corpus import stopwords\n",
    "from nltk.tokenize.treebank import TreebankWordTokenizer, TreebankWordDetokenizer\n",
    "from nltk.stem import WordNetLemmatizer\n",
    "from string import punctuation\n"
   ],
   "outputs": [],
   "execution_count": 68
  },
  {
   "metadata": {
    "ExecuteTime": {
     "end_time": "2024-12-16T19:11:36.689752Z",
     "start_time": "2024-12-16T19:11:36.679425Z"
    }
   },
   "cell_type": "code",
   "source": [
    "data_path = \"/Users/aswathshakthi/PycharmProjects/MLOps/Semantic Analysis/ClinicalSTS\"\n",
    "df0 = pd.read_csv(\n",
    "    os.path.join(data_path, \"clinicalSTS.train.txt\"),\n",
    "    sep='\\t',\n",
    "    header=None,\n",
    "    names=[\"Sent1\", \"Sent2\", \"Score\"]\n",
    ")\n",
    "df0\n"
   ],
   "outputs": [
    {
     "data": {
      "text/plain": [
       "                                                 Sent1  \\\n",
       "0    Insulin NPH Human [NOVOLIN N] 100 unit/mL susp...   \n",
       "1     Patient arrives ambulatory, Gait steady, Hist...   \n",
       "2     Peripheral IV site, established in the right ...   \n",
       "3     No: new confusion or inability to stay alert ...   \n",
       "4    Spent 15 minutes with the patient and greater ...   \n",
       "..                                                 ...   \n",
       "745  Discussed the necessity of other members of th...   \n",
       "746   Barriers to learning: (cultural, religious/sp...   \n",
       "747   Unable to assess if there is a history or con...   \n",
       "748   Discussed the risks, benefits, alternatives, ...   \n",
       "749   Identified Illness as a learning need, Identi...   \n",
       "\n",
       "                                                 Sent2  Score  \n",
       "0     Insulin NPH Human [NOVOLIN N] 100 unit/mL sus...   3.50  \n",
       "1     Complex assessment performed, Patient arrives...   2.50  \n",
       "2     Peripheral IV site, present prior to arrival,...   3.45  \n",
       "3     No: new confusion or inability to stay alert ...   4.00  \n",
       "4     Nurse visit ten minutes, over half of which w...   3.00  \n",
       "..                                                 ...    ...  \n",
       "745   We discussed the risks, the goals, the altern...   3.00  \n",
       "746   Barriers assessed (Cultural, Religious/Spirit...   2.75  \n",
       "747   Unable to assess if there is a history or con...   3.90  \n",
       "748   Informed consent: Discussed risks, goals, alt...   3.25  \n",
       "749   Identified Illness as a learning need, Patien...   3.90  \n",
       "\n",
       "[750 rows x 3 columns]"
      ],
      "text/html": [
       "<div>\n",
       "<style scoped>\n",
       "    .dataframe tbody tr th:only-of-type {\n",
       "        vertical-align: middle;\n",
       "    }\n",
       "\n",
       "    .dataframe tbody tr th {\n",
       "        vertical-align: top;\n",
       "    }\n",
       "\n",
       "    .dataframe thead th {\n",
       "        text-align: right;\n",
       "    }\n",
       "</style>\n",
       "<table border=\"1\" class=\"dataframe\">\n",
       "  <thead>\n",
       "    <tr style=\"text-align: right;\">\n",
       "      <th></th>\n",
       "      <th>Sent1</th>\n",
       "      <th>Sent2</th>\n",
       "      <th>Score</th>\n",
       "    </tr>\n",
       "  </thead>\n",
       "  <tbody>\n",
       "    <tr>\n",
       "      <th>0</th>\n",
       "      <td>Insulin NPH Human [NOVOLIN N] 100 unit/mL susp...</td>\n",
       "      <td>Insulin NPH Human [NOVOLIN N] 100 unit/mL sus...</td>\n",
       "      <td>3.50</td>\n",
       "    </tr>\n",
       "    <tr>\n",
       "      <th>1</th>\n",
       "      <td>Patient arrives ambulatory, Gait steady, Hist...</td>\n",
       "      <td>Complex assessment performed, Patient arrives...</td>\n",
       "      <td>2.50</td>\n",
       "    </tr>\n",
       "    <tr>\n",
       "      <th>2</th>\n",
       "      <td>Peripheral IV site, established in the right ...</td>\n",
       "      <td>Peripheral IV site, present prior to arrival,...</td>\n",
       "      <td>3.45</td>\n",
       "    </tr>\n",
       "    <tr>\n",
       "      <th>3</th>\n",
       "      <td>No: new confusion or inability to stay alert ...</td>\n",
       "      <td>No: new confusion or inability to stay alert ...</td>\n",
       "      <td>4.00</td>\n",
       "    </tr>\n",
       "    <tr>\n",
       "      <th>4</th>\n",
       "      <td>Spent 15 minutes with the patient and greater ...</td>\n",
       "      <td>Nurse visit ten minutes, over half of which w...</td>\n",
       "      <td>3.00</td>\n",
       "    </tr>\n",
       "    <tr>\n",
       "      <th>...</th>\n",
       "      <td>...</td>\n",
       "      <td>...</td>\n",
       "      <td>...</td>\n",
       "    </tr>\n",
       "    <tr>\n",
       "      <th>745</th>\n",
       "      <td>Discussed the necessity of other members of th...</td>\n",
       "      <td>We discussed the risks, the goals, the altern...</td>\n",
       "      <td>3.00</td>\n",
       "    </tr>\n",
       "    <tr>\n",
       "      <th>746</th>\n",
       "      <td>Barriers to learning: (cultural, religious/sp...</td>\n",
       "      <td>Barriers assessed (Cultural, Religious/Spirit...</td>\n",
       "      <td>2.75</td>\n",
       "    </tr>\n",
       "    <tr>\n",
       "      <th>747</th>\n",
       "      <td>Unable to assess if there is a history or con...</td>\n",
       "      <td>Unable to assess if there is a history or con...</td>\n",
       "      <td>3.90</td>\n",
       "    </tr>\n",
       "    <tr>\n",
       "      <th>748</th>\n",
       "      <td>Discussed the risks, benefits, alternatives, ...</td>\n",
       "      <td>Informed consent: Discussed risks, goals, alt...</td>\n",
       "      <td>3.25</td>\n",
       "    </tr>\n",
       "    <tr>\n",
       "      <th>749</th>\n",
       "      <td>Identified Illness as a learning need, Identi...</td>\n",
       "      <td>Identified Illness as a learning need, Patien...</td>\n",
       "      <td>3.90</td>\n",
       "    </tr>\n",
       "  </tbody>\n",
       "</table>\n",
       "<p>750 rows × 3 columns</p>\n",
       "</div>"
      ]
     },
     "execution_count": 69,
     "metadata": {},
     "output_type": "execute_result"
    }
   ],
   "execution_count": 69
  },
  {
   "metadata": {
    "ExecuteTime": {
     "end_time": "2024-12-16T19:11:36.733950Z",
     "start_time": "2024-12-16T19:11:36.726376Z"
    }
   },
   "cell_type": "code",
   "source": [
    "data_path = \"/Users/aswathshakthi/PycharmProjects/MLOps/Semantic Analysis/ClinicalSTS\"\n",
    "df1 = pd.read_csv(\n",
    "    os.path.join(data_path, \"clinicalSTS.test.txt\"),\n",
    "    sep='\\t',\n",
    "    header=None,\n",
    "    names=[\"Sent1\", \"Sent2\", \"Score\"]\n",
    ")\n",
    "df1[\"Score\"] = pd.read_csv(\"/Users/aswathshakthi/PycharmProjects/MLOps/Semantic Analysis/ClinicalSTS/clinicalSTS.test.gs.sim.txt\",header=None,names=[\"Score\"])\n",
    "df1"
   ],
   "outputs": [
    {
     "data": {
      "text/plain": [
       "                                                 Sent1  \\\n",
       "0     No: new confusion or inability to stay alert ...   \n",
       "1     Negative gastrointestinal review of systems, ...   \n",
       "2     No: new confusion or inability to stay alert ...   \n",
       "3     Procedural pause conducted to verify: correct...   \n",
       "4    Instructions: Take 2 tablets on first day foll...   \n",
       "..                                                 ...   \n",
       "313  Explained diagnosis and treatment plan as dire...   \n",
       "314  Insulin Regular Human [NOVOLIN R] 100 unit/mL ...   \n",
       "315   Patient discharged to home, ambulating withou...   \n",
       "316  The client verbalized understanding and consen...   \n",
       "317   History obtained from patient, Patient appear...   \n",
       "\n",
       "                                                 Sent2  Score  \n",
       "0     No: new confusion or inability to stay alert ...   3.00  \n",
       "1     Negative ears, nose, throat review of systems...   1.00  \n",
       "2     No: new confusion or inability to stay alert ...   3.00  \n",
       "3     Before procedure, pause conducted and patient...   3.25  \n",
       "4     Instructions: Take 1 tab TID for 3 days, then...   1.50  \n",
       "..                                                 ...    ...  \n",
       "313   Explained diagnosis and treatment plan; patie...   4.90  \n",
       "314   Lantus Solostar 100 unit/mL (3 mL) Insulin Pe...   3.50  \n",
       "315   Patient discharged to home, carried, family d...   3.25  \n",
       "316   Those present reported an adequate understand...   1.25  \n",
       "317   Complex assessment performed, Patient arrives...   3.15  \n",
       "\n",
       "[318 rows x 3 columns]"
      ],
      "text/html": [
       "<div>\n",
       "<style scoped>\n",
       "    .dataframe tbody tr th:only-of-type {\n",
       "        vertical-align: middle;\n",
       "    }\n",
       "\n",
       "    .dataframe tbody tr th {\n",
       "        vertical-align: top;\n",
       "    }\n",
       "\n",
       "    .dataframe thead th {\n",
       "        text-align: right;\n",
       "    }\n",
       "</style>\n",
       "<table border=\"1\" class=\"dataframe\">\n",
       "  <thead>\n",
       "    <tr style=\"text-align: right;\">\n",
       "      <th></th>\n",
       "      <th>Sent1</th>\n",
       "      <th>Sent2</th>\n",
       "      <th>Score</th>\n",
       "    </tr>\n",
       "  </thead>\n",
       "  <tbody>\n",
       "    <tr>\n",
       "      <th>0</th>\n",
       "      <td>No: new confusion or inability to stay alert ...</td>\n",
       "      <td>No: new confusion or inability to stay alert ...</td>\n",
       "      <td>3.00</td>\n",
       "    </tr>\n",
       "    <tr>\n",
       "      <th>1</th>\n",
       "      <td>Negative gastrointestinal review of systems, ...</td>\n",
       "      <td>Negative ears, nose, throat review of systems...</td>\n",
       "      <td>1.00</td>\n",
       "    </tr>\n",
       "    <tr>\n",
       "      <th>2</th>\n",
       "      <td>No: new confusion or inability to stay alert ...</td>\n",
       "      <td>No: new confusion or inability to stay alert ...</td>\n",
       "      <td>3.00</td>\n",
       "    </tr>\n",
       "    <tr>\n",
       "      <th>3</th>\n",
       "      <td>Procedural pause conducted to verify: correct...</td>\n",
       "      <td>Before procedure, pause conducted and patient...</td>\n",
       "      <td>3.25</td>\n",
       "    </tr>\n",
       "    <tr>\n",
       "      <th>4</th>\n",
       "      <td>Instructions: Take 2 tablets on first day foll...</td>\n",
       "      <td>Instructions: Take 1 tab TID for 3 days, then...</td>\n",
       "      <td>1.50</td>\n",
       "    </tr>\n",
       "    <tr>\n",
       "      <th>...</th>\n",
       "      <td>...</td>\n",
       "      <td>...</td>\n",
       "      <td>...</td>\n",
       "    </tr>\n",
       "    <tr>\n",
       "      <th>313</th>\n",
       "      <td>Explained diagnosis and treatment plan as dire...</td>\n",
       "      <td>Explained diagnosis and treatment plan; patie...</td>\n",
       "      <td>4.90</td>\n",
       "    </tr>\n",
       "    <tr>\n",
       "      <th>314</th>\n",
       "      <td>Insulin Regular Human [NOVOLIN R] 100 unit/mL ...</td>\n",
       "      <td>Lantus Solostar 100 unit/mL (3 mL) Insulin Pe...</td>\n",
       "      <td>3.50</td>\n",
       "    </tr>\n",
       "    <tr>\n",
       "      <th>315</th>\n",
       "      <td>Patient discharged to home, ambulating withou...</td>\n",
       "      <td>Patient discharged to home, carried, family d...</td>\n",
       "      <td>3.25</td>\n",
       "    </tr>\n",
       "    <tr>\n",
       "      <th>316</th>\n",
       "      <td>The client verbalized understanding and consen...</td>\n",
       "      <td>Those present reported an adequate understand...</td>\n",
       "      <td>1.25</td>\n",
       "    </tr>\n",
       "    <tr>\n",
       "      <th>317</th>\n",
       "      <td>History obtained from patient, Patient appear...</td>\n",
       "      <td>Complex assessment performed, Patient arrives...</td>\n",
       "      <td>3.15</td>\n",
       "    </tr>\n",
       "  </tbody>\n",
       "</table>\n",
       "<p>318 rows × 3 columns</p>\n",
       "</div>"
      ]
     },
     "execution_count": 70,
     "metadata": {},
     "output_type": "execute_result"
    }
   ],
   "execution_count": 70
  },
  {
   "metadata": {
    "ExecuteTime": {
     "end_time": "2024-12-16T19:11:36.786251Z",
     "start_time": "2024-12-16T19:11:36.781074Z"
    }
   },
   "cell_type": "code",
   "source": [
    "df = pd.concat([df0, df1],ignore_index=True)\n",
    "df"
   ],
   "outputs": [
    {
     "data": {
      "text/plain": [
       "                                                  Sent1  \\\n",
       "0     Insulin NPH Human [NOVOLIN N] 100 unit/mL susp...   \n",
       "1      Patient arrives ambulatory, Gait steady, Hist...   \n",
       "2      Peripheral IV site, established in the right ...   \n",
       "3      No: new confusion or inability to stay alert ...   \n",
       "4     Spent 15 minutes with the patient and greater ...   \n",
       "...                                                 ...   \n",
       "1063  Explained diagnosis and treatment plan as dire...   \n",
       "1064  Insulin Regular Human [NOVOLIN R] 100 unit/mL ...   \n",
       "1065   Patient discharged to home, ambulating withou...   \n",
       "1066  The client verbalized understanding and consen...   \n",
       "1067   History obtained from patient, Patient appear...   \n",
       "\n",
       "                                                  Sent2  Score  \n",
       "0      Insulin NPH Human [NOVOLIN N] 100 unit/mL sus...   3.50  \n",
       "1      Complex assessment performed, Patient arrives...   2.50  \n",
       "2      Peripheral IV site, present prior to arrival,...   3.45  \n",
       "3      No: new confusion or inability to stay alert ...   4.00  \n",
       "4      Nurse visit ten minutes, over half of which w...   3.00  \n",
       "...                                                 ...    ...  \n",
       "1063   Explained diagnosis and treatment plan; patie...   4.90  \n",
       "1064   Lantus Solostar 100 unit/mL (3 mL) Insulin Pe...   3.50  \n",
       "1065   Patient discharged to home, carried, family d...   3.25  \n",
       "1066   Those present reported an adequate understand...   1.25  \n",
       "1067   Complex assessment performed, Patient arrives...   3.15  \n",
       "\n",
       "[1068 rows x 3 columns]"
      ],
      "text/html": [
       "<div>\n",
       "<style scoped>\n",
       "    .dataframe tbody tr th:only-of-type {\n",
       "        vertical-align: middle;\n",
       "    }\n",
       "\n",
       "    .dataframe tbody tr th {\n",
       "        vertical-align: top;\n",
       "    }\n",
       "\n",
       "    .dataframe thead th {\n",
       "        text-align: right;\n",
       "    }\n",
       "</style>\n",
       "<table border=\"1\" class=\"dataframe\">\n",
       "  <thead>\n",
       "    <tr style=\"text-align: right;\">\n",
       "      <th></th>\n",
       "      <th>Sent1</th>\n",
       "      <th>Sent2</th>\n",
       "      <th>Score</th>\n",
       "    </tr>\n",
       "  </thead>\n",
       "  <tbody>\n",
       "    <tr>\n",
       "      <th>0</th>\n",
       "      <td>Insulin NPH Human [NOVOLIN N] 100 unit/mL susp...</td>\n",
       "      <td>Insulin NPH Human [NOVOLIN N] 100 unit/mL sus...</td>\n",
       "      <td>3.50</td>\n",
       "    </tr>\n",
       "    <tr>\n",
       "      <th>1</th>\n",
       "      <td>Patient arrives ambulatory, Gait steady, Hist...</td>\n",
       "      <td>Complex assessment performed, Patient arrives...</td>\n",
       "      <td>2.50</td>\n",
       "    </tr>\n",
       "    <tr>\n",
       "      <th>2</th>\n",
       "      <td>Peripheral IV site, established in the right ...</td>\n",
       "      <td>Peripheral IV site, present prior to arrival,...</td>\n",
       "      <td>3.45</td>\n",
       "    </tr>\n",
       "    <tr>\n",
       "      <th>3</th>\n",
       "      <td>No: new confusion or inability to stay alert ...</td>\n",
       "      <td>No: new confusion or inability to stay alert ...</td>\n",
       "      <td>4.00</td>\n",
       "    </tr>\n",
       "    <tr>\n",
       "      <th>4</th>\n",
       "      <td>Spent 15 minutes with the patient and greater ...</td>\n",
       "      <td>Nurse visit ten minutes, over half of which w...</td>\n",
       "      <td>3.00</td>\n",
       "    </tr>\n",
       "    <tr>\n",
       "      <th>...</th>\n",
       "      <td>...</td>\n",
       "      <td>...</td>\n",
       "      <td>...</td>\n",
       "    </tr>\n",
       "    <tr>\n",
       "      <th>1063</th>\n",
       "      <td>Explained diagnosis and treatment plan as dire...</td>\n",
       "      <td>Explained diagnosis and treatment plan; patie...</td>\n",
       "      <td>4.90</td>\n",
       "    </tr>\n",
       "    <tr>\n",
       "      <th>1064</th>\n",
       "      <td>Insulin Regular Human [NOVOLIN R] 100 unit/mL ...</td>\n",
       "      <td>Lantus Solostar 100 unit/mL (3 mL) Insulin Pe...</td>\n",
       "      <td>3.50</td>\n",
       "    </tr>\n",
       "    <tr>\n",
       "      <th>1065</th>\n",
       "      <td>Patient discharged to home, ambulating withou...</td>\n",
       "      <td>Patient discharged to home, carried, family d...</td>\n",
       "      <td>3.25</td>\n",
       "    </tr>\n",
       "    <tr>\n",
       "      <th>1066</th>\n",
       "      <td>The client verbalized understanding and consen...</td>\n",
       "      <td>Those present reported an adequate understand...</td>\n",
       "      <td>1.25</td>\n",
       "    </tr>\n",
       "    <tr>\n",
       "      <th>1067</th>\n",
       "      <td>History obtained from patient, Patient appear...</td>\n",
       "      <td>Complex assessment performed, Patient arrives...</td>\n",
       "      <td>3.15</td>\n",
       "    </tr>\n",
       "  </tbody>\n",
       "</table>\n",
       "<p>1068 rows × 3 columns</p>\n",
       "</div>"
      ]
     },
     "execution_count": 71,
     "metadata": {},
     "output_type": "execute_result"
    }
   ],
   "execution_count": 71
  },
  {
   "metadata": {
    "ExecuteTime": {
     "end_time": "2024-12-16T19:11:36.843205Z",
     "start_time": "2024-12-16T19:11:36.839597Z"
    }
   },
   "cell_type": "code",
   "source": [
    "def preprocess_text(series, custom_stopwords=[]):\n",
    "    \"\"\"\n",
    "    Perform the full preprocessing pipeline on a Pandas Series:\n",
    "    - Lowercasing\n",
    "    - Removing numbers and punctuation\n",
    "    - Tokenizing\n",
    "    - Lemmatizing\n",
    "    - Removing stopwords\n",
    "    - Detokenizing\n",
    "    \"\"\"\n",
    "    # Initialize tools\n",
    "    tokenizer = TreebankWordTokenizer()\n",
    "    detokenizer = TreebankWordDetokenizer()\n",
    "    lemmatizer = WordNetLemmatizer()\n",
    "    stop_words = set(stopwords.words('english')).union(custom_stopwords)\n",
    "\n",
    "    def clean_and_process(sentence):\n",
    "        # Lowercase and clean\n",
    "        sentence = sentence.lower()\n",
    "        sentence = ''.join(c for c in sentence if not c.isdigit())\n",
    "        sentence = ''.join(c for c in sentence if c not in punctuation)\n",
    "\n",
    "        # Tokenize\n",
    "        tokens = tokenizer.tokenize(sentence)\n",
    "\n",
    "        # Lemmatize\n",
    "        tokens = [lemmatizer.lemmatize(word) for word in tokens]\n",
    "\n",
    "        # Remove stopwords\n",
    "        tokens = [word for word in tokens if word not in stop_words]\n",
    "\n",
    "        # Detokenize\n",
    "        return detokenizer.detokenize(tokens)\n",
    "\n",
    "    return series.apply(clean_and_process)\n"
   ],
   "outputs": [],
   "execution_count": 72
  },
  {
   "metadata": {
    "ExecuteTime": {
     "end_time": "2024-12-16T19:11:36.881497Z",
     "start_time": "2024-12-16T19:11:36.879208Z"
    }
   },
   "cell_type": "code",
   "source": [
    "custom_stopwords_path = os.path.join(data_path, \"stopwords\")\n",
    "custom_stopwords = (\n",
    "    [line.strip() for line in open(custom_stopwords_path, 'r')]\n",
    "    if os.path.exists(custom_stopwords_path)\n",
    "    else []\n",
    ")\n"
   ],
   "outputs": [],
   "execution_count": 73
  },
  {
   "metadata": {
    "ExecuteTime": {
     "end_time": "2024-12-16T19:11:37.297571Z",
     "start_time": "2024-12-16T19:11:36.914625Z"
    }
   },
   "cell_type": "code",
   "source": [
    "df[\"Sent1_Processed\"] = preprocess_text(df[\"Sent1\"], custom_stopwords)\n",
    "df[\"Sent2_Processed\"] = preprocess_text(df[\"Sent2\"], custom_stopwords)\n"
   ],
   "outputs": [],
   "execution_count": 74
  },
  {
   "metadata": {
    "ExecuteTime": {
     "end_time": "2024-12-16T19:11:37.306377Z",
     "start_time": "2024-12-16T19:11:37.301698Z"
    }
   },
   "cell_type": "code",
   "source": [
    "sent1_tokens = sum(len(sentence.split()) for sentence in df[\"Sent1_Processed\"])\n",
    "sent2_tokens = sum(len(sentence.split()) for sentence in df[\"Sent2_Processed\"])\n",
    "print(f\"Sentence 1 has {sent1_tokens} tokens.\")\n",
    "print(f\"Sentence 2 has {sent2_tokens} tokens.\")\n",
    "print(f\"Total tokens: {sent1_tokens + sent2_tokens}\")\n"
   ],
   "outputs": [
    {
     "name": "stdout",
     "output_type": "stream",
     "text": [
      "Sentence 1 has 17808 tokens.\n",
      "Sentence 2 has 17996 tokens.\n",
      "Total tokens: 35804\n"
     ]
    }
   ],
   "execution_count": 75
  },
  {
   "metadata": {
    "ExecuteTime": {
     "end_time": "2024-12-16T19:11:37.333353Z",
     "start_time": "2024-12-16T19:11:37.318358Z"
    }
   },
   "cell_type": "code",
   "source": [
    "output_train_path = os.path.join(data_path, \"train.csv\")\n",
    "output_test_path = os.path.join(data_path, \"test.csv\")\n",
    "output_combined_path = os.path.join(data_path, \"clinic_c.csv\")\n",
    "\n",
    "# Split into train and test\n",
    "train_df = df.iloc[:750]\n",
    "test_df = df.iloc[750:]\n",
    "\n",
    "train_df[[\"Sent1\", \"Sent2\", \"Score\"]].to_csv(output_train_path, index=False)\n",
    "test_df[[\"Sent1\", \"Sent2\", \"Score\"]].to_csv(output_test_path, index=False)\n",
    "df[[\"Sent1\", \"Sent2\", \"Score\"]].to_csv(output_combined_path, index=False)\n",
    "\n",
    "print(\"Data exported successfully.\")\n"
   ],
   "outputs": [
    {
     "name": "stdout",
     "output_type": "stream",
     "text": [
      "Data exported successfully.\n"
     ]
    }
   ],
   "execution_count": 76
  },
  {
   "metadata": {
    "ExecuteTime": {
     "end_time": "2024-12-16T19:11:37.346442Z",
     "start_time": "2024-12-16T19:11:37.345100Z"
    }
   },
   "cell_type": "code",
   "source": "",
   "outputs": [],
   "execution_count": null
  }
 ],
 "metadata": {
  "kernelspec": {
   "display_name": "Python 3",
   "language": "python",
   "name": "python3"
  },
  "language_info": {
   "codemirror_mode": {
    "name": "ipython",
    "version": 3
   },
   "file_extension": ".py",
   "mimetype": "text/x-python",
   "name": "python",
   "nbconvert_exporter": "python",
   "pygments_lexer": "ipython3",
   "version": "3.7.7"
  }
 },
 "nbformat": 4,
 "nbformat_minor": 1
}
